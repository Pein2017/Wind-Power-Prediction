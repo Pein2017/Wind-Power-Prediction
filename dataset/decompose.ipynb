{
 "cells": [
  {
   "cell_type": "code",
   "execution_count": 1,
   "metadata": {},
   "outputs": [],
   "source": [
    "import pandas as pd"
   ]
  },
  {
   "cell_type": "code",
   "execution_count": 2,
   "metadata": {},
   "outputs": [],
   "source": [
    "data_path = \"/data3/lsf/Pein/Power-Prediction/data/train_data.csv\"\n",
    "df = pd.read_csv(data_path)"
   ]
  },
  {
   "cell_type": "code",
   "execution_count": 3,
   "metadata": {},
   "outputs": [],
   "source": [
    "# Convert the time column to datetime and set it as the index\n",
    "df[\"time\"] = pd.to_datetime(df[\"time\"])\n",
    "df.set_index(\"time\", inplace=True)\n",
    "\n",
    "# Ensure the index is uniformly spaced at 15 minutes\n",
    "df = df.asfreq(\"15min\")\n",
    "\n",
    "# Fill missing values if any (e.g., using interpolation)\n",
    "# df[\"power\"].interpolate(method=\"time\", inplace=True)"
   ]
  },
  {
   "cell_type": "code",
   "execution_count": 4,
   "metadata": {},
   "outputs": [],
   "source": [
    "from statsmodels.tsa.seasonal import STL\n",
    "import numpy as np\n",
    "import matplotlib.pyplot as plt"
   ]
  },
  {
   "cell_type": "code",
   "execution_count": 5,
   "metadata": {},
   "outputs": [],
   "source": [
    "def calculate_strengths(original, trend, seasonal, residual):\n",
    "    total_var = np.var(original)\n",
    "    trend_strength = 1 - (np.var(residual) / total_var)\n",
    "    seasonal_strength = 1 - (np.var(residual + trend) / total_var)\n",
    "    residual_strength = np.var(residual) / total_var\n",
    "\n",
    "    return trend_strength, seasonal_strength, residual_strength\n",
    "\n",
    "\n",
    "def apply_stl_decomposition(series, period, seasonal):\n",
    "    stl = STL(series, period=period, seasonal=seasonal)\n",
    "    result = stl.fit()\n",
    "\n",
    "    # Extract the components\n",
    "    trend = result.trend\n",
    "    seasonal = result.seasonal\n",
    "    residual = result.resid\n",
    "\n",
    "    # Calculate strengths\n",
    "    trend_strength, seasonal_strength, residual_strength = calculate_strengths(\n",
    "        series, trend, seasonal, residual\n",
    "    )\n",
    "\n",
    "    return (\n",
    "        trend_strength,\n",
    "        seasonal_strength,\n",
    "        residual_strength,\n",
    "        trend,\n",
    "        seasonal,\n",
    "        residual,\n",
    "    )\n",
    "\n",
    "\n",
    "def apply_stl_decomposition_with_plots(series, period, title):\n",
    "    trend_strength, seasonal_strength, residual_strength, trend, seasonal, residual = (\n",
    "        apply_stl_decomposition(series, period)\n",
    "    )\n",
    "\n",
    "    # Plot the components\n",
    "    plt.figure(figsize=(12, 8))\n",
    "\n",
    "    plt.subplot(4, 1, 1)\n",
    "    plt.plot(series.index, series, label=\"Original\")\n",
    "    plt.legend(loc=\"upper left\")\n",
    "\n",
    "    plt.subplot(4, 1, 2)\n",
    "    plt.plot(trend.index, trend, label=\"Trend\")\n",
    "    plt.legend(loc=\"upper left\")\n",
    "\n",
    "    plt.subplot(4, 1, 3)\n",
    "    plt.plot(seasonal.index, seasonal, label=\"Seasonal\")\n",
    "    plt.legend(loc=\"upper left\")\n",
    "\n",
    "    plt.subplot(4, 1, 4)\n",
    "    plt.plot(residual.index, residual, label=\"Residual\")\n",
    "    plt.legend(loc=\"upper left\")\n",
    "\n",
    "    plt.tight_layout()\n",
    "    plt.suptitle(title, y=1.02)\n",
    "    plt.show()\n",
    "\n",
    "    return trend_strength, seasonal_strength, residual_strength\n",
    "\n",
    "\n",
    "def find_best_periods_and_seasonal(\n",
    "    series, min_period=4, max_period=2880, top_n=3, seasonal_values=[7, 15, 31]\n",
    "):\n",
    "    results = []\n",
    "\n",
    "    period_values = [4, 8, 16, 32, 64, 96, 192, 672, 2880]\n",
    "\n",
    "    for period in period_values:\n",
    "        for seasonal in seasonal_values:\n",
    "            trend_strength, seasonal_strength, residual_strength, _, _, _ = (\n",
    "                apply_stl_decomposition(series, period, seasonal)\n",
    "            )\n",
    "            results.append(\n",
    "                (period, seasonal, trend_strength, seasonal_strength, residual_strength)\n",
    "            )\n",
    "\n",
    "    # Sort results by residual strength\n",
    "    results.sort(key=lambda x: x[4])  # Sort by residual_strength\n",
    "    return results[:top_n]\n",
    "\n",
    "\n",
    "def analyze_series(series, top_n=3, plot=False):\n",
    "    # Ensure the series has a uniform frequency and fill missing values\n",
    "    series = series.resample(\"15T\").mean()\n",
    "    series.interpolate(method=\"time\", inplace=True)\n",
    "\n",
    "    # Find the top periods and seasonal values with the lowest residual strength\n",
    "    top_periods_and_seasonal = find_best_periods_and_seasonal(series, top_n=top_n)\n",
    "\n",
    "    # Plot the top_n periods and seasonal values\n",
    "    for (\n",
    "        period,\n",
    "        seasonal,\n",
    "        trend_strength,\n",
    "        seasonal_strength,\n",
    "        residual_strength,\n",
    "    ) in top_periods_and_seasonal:\n",
    "        print(\n",
    "            f\"Period: {period}, Seasonal: {seasonal}, Trend Strength: {trend_strength:.2f}, Seasonal Strength: {seasonal_strength:.2f}, Residual Strength: {residual_strength:.2f}\"\n",
    "        )\n",
    "        if plot:\n",
    "            apply_stl_decomposition_with_plots(\n",
    "                series, period, seasonal, f\"Period: {period}, Seasonal: {seasonal}\"\n",
    "            )\n",
    "\n",
    "    return top_periods_and_seasonal"
   ]
  },
  {
   "cell_type": "code",
   "execution_count": 7,
   "metadata": {},
   "outputs": [
    {
     "name": "stdout",
     "output_type": "stream",
     "text": [
      "Analyzing column: power\n"
     ]
    },
    {
     "name": "stderr",
     "output_type": "stream",
     "text": [
      "/tmp/ipykernel_2794669/835001194.py:88: FutureWarning: 'T' is deprecated and will be removed in a future version, please use 'min' instead.\n",
      "  series = series.resample(\"15T\").mean()\n"
     ]
    },
    {
     "name": "stdout",
     "output_type": "stream",
     "text": [
      "Period: 4, Seasonal: 15, Trend Strength: 1.00, Seasonal Strength: 0.00, Residual Strength: 0.00\n",
      "Period: 4, Seasonal: 31, Trend Strength: 1.00, Seasonal Strength: 0.00, Residual Strength: 0.00\n",
      "Period: 4, Seasonal: 7, Trend Strength: 1.00, Seasonal Strength: 0.00, Residual Strength: 0.00\n",
      "Period: 8, Seasonal: 31, Trend Strength: 0.99, Seasonal Strength: 0.00, Residual Strength: 0.01\n",
      "Period: 8, Seasonal: 7, Trend Strength: 0.99, Seasonal Strength: 0.00, Residual Strength: 0.01\n",
      "Period: 8, Seasonal: 15, Trend Strength: 0.99, Seasonal Strength: 0.00, Residual Strength: 0.01\n",
      "Period: 16, Seasonal: 7, Trend Strength: 0.97, Seasonal Strength: 0.01, Residual Strength: 0.03\n",
      "Period: 16, Seasonal: 15, Trend Strength: 0.97, Seasonal Strength: 0.00, Residual Strength: 0.03\n",
      "Period: 16, Seasonal: 31, Trend Strength: 0.97, Seasonal Strength: 0.00, Residual Strength: 0.03\n",
      "Period: 32, Seasonal: 31, Trend Strength: 0.94, Seasonal Strength: 0.01, Residual Strength: 0.06\n",
      "Column: power, Period: 4, Seasonal: 15, Trend Strength: 1.00, Seasonal Strength: 0.00, Residual Strength: 0.00\n",
      "Column: power, Period: 4, Seasonal: 31, Trend Strength: 1.00, Seasonal Strength: 0.00, Residual Strength: 0.00\n",
      "Column: power, Period: 4, Seasonal: 7, Trend Strength: 1.00, Seasonal Strength: 0.00, Residual Strength: 0.00\n",
      "Column: power, Period: 8, Seasonal: 31, Trend Strength: 0.99, Seasonal Strength: 0.00, Residual Strength: 0.01\n",
      "Column: power, Period: 8, Seasonal: 7, Trend Strength: 0.99, Seasonal Strength: 0.00, Residual Strength: 0.01\n",
      "Column: power, Period: 8, Seasonal: 15, Trend Strength: 0.99, Seasonal Strength: 0.00, Residual Strength: 0.01\n",
      "Column: power, Period: 16, Seasonal: 7, Trend Strength: 0.97, Seasonal Strength: 0.01, Residual Strength: 0.03\n",
      "Column: power, Period: 16, Seasonal: 15, Trend Strength: 0.97, Seasonal Strength: 0.00, Residual Strength: 0.03\n",
      "Column: power, Period: 16, Seasonal: 31, Trend Strength: 0.97, Seasonal Strength: 0.00, Residual Strength: 0.03\n",
      "Column: power, Period: 32, Seasonal: 31, Trend Strength: 0.94, Seasonal Strength: 0.01, Residual Strength: 0.06\n"
     ]
    }
   ],
   "source": [
    "# Iterate over all columns except 'lead_hour' and analyze each one\n",
    "results = {}\n",
    "for column in df.columns:\n",
    "    if column != \"lead_hour\" and column == \"power\":\n",
    "        print(f\"Analyzing column: {column}\")\n",
    "        specified_series = df[column]\n",
    "        top_periods_and_seasonal = analyze_series(specified_series, top_n=10)\n",
    "        results[column] = top_periods_and_seasonal\n",
    "\n",
    "        # Print the results for each column\n",
    "        for (\n",
    "            period,\n",
    "            seasonal,\n",
    "            trend_strength,\n",
    "            seasonal_strength,\n",
    "            residual_strength,\n",
    "        ) in top_periods_and_seasonal:\n",
    "            print(\n",
    "                f\"Column: {column}, Period: {period}, Seasonal: {seasonal}, Trend Strength: {trend_strength:.2f}, Seasonal Strength: {seasonal_strength:.2f}, Residual Strength: {residual_strength:.2f}\"\n",
    "            )"
   ]
  },
  {
   "cell_type": "code",
   "execution_count": null,
   "metadata": {},
   "outputs": [],
   "source": []
  }
 ],
 "metadata": {
  "kernelspec": {
   "display_name": "Pein_310",
   "language": "python",
   "name": "python3"
  },
  "language_info": {
   "codemirror_mode": {
    "name": "ipython",
    "version": 3
   },
   "file_extension": ".py",
   "mimetype": "text/x-python",
   "name": "python",
   "nbconvert_exporter": "python",
   "pygments_lexer": "ipython3",
   "version": "3.10.14"
  }
 },
 "nbformat": 4,
 "nbformat_minor": 2
}
