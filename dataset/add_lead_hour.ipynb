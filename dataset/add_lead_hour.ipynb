{
 "cells": [
  {
   "cell_type": "code",
   "execution_count": 4,
   "metadata": {},
   "outputs": [],
   "source": [
    "import pandas as pd\n",
    "import numpy as np\n",
    "import matplotlib.pyplot as plt\n",
    "\n",
    "\n",
    "\n",
    "test_path = '/data3/lsf/Pein/Power-Prediction/data/test_farm_98_withTime.csv'\n",
    "train_path = '/data3/lsf/Pein/Power-Prediction/data/train_farm_98_withTime.csv'\n",
    "\n",
    "\n",
    "train_ori_path = '/data3/lsf/Pein/Power-Prediction/data/train_input_merge.csv'\n",
    "test_ori_path = '/data3/lsf/Pein/Power-Prediction/data/test_input_merge.csv'\n",
    "\n",
    "# load data\n",
    "train_ori = pd.read_csv(train_ori_path)\n",
    "test_ori = pd.read_csv(test_ori_path)\n",
    "\n",
    "train = pd.read_csv(train_path)\n",
    "test = pd.read_csv(test_path)\n",
    "\n",
    "# add the column 'lead_hour' from _ori dataset to the _withTime dataset\n",
    "train['lead_hour'] = train_ori['lead_hour']\n",
    "test['lead_hour'] = test_ori['lead_hour']\n"
   ]
  },
  {
   "cell_type": "code",
   "execution_count": 3,
   "metadata": {},
   "outputs": [
    {
     "data": {
      "text/plain": [
       "0        28.00\n",
       "1        28.25\n",
       "2        28.50\n",
       "3        28.75\n",
       "4        29.00\n",
       "         ...  \n",
       "14587    50.75\n",
       "14588    51.00\n",
       "14589    51.25\n",
       "14590    51.50\n",
       "14591    51.75\n",
       "Name: lead_hour, Length: 14592, dtype: float64"
      ]
     },
     "execution_count": 3,
     "metadata": {},
     "output_type": "execute_result"
    }
   ],
   "source": [
    "train.lead_hour"
   ]
  },
  {
   "cell_type": "code",
   "execution_count": 2,
   "metadata": {},
   "outputs": [
    {
     "name": "stdout",
     "output_type": "stream",
     "text": [
      "lead hour ranges from 28.0 to 51.75\n"
     ]
    }
   ],
   "source": [
    "print(f'lead hour ranges from {min(train.lead_hour)} to {max(train.lead_hour)}')"
   ]
  },
  {
   "cell_type": "code",
   "execution_count": 8,
   "metadata": {},
   "outputs": [
    {
     "name": "stdout",
     "output_type": "stream",
     "text": [
      "new shape of train_data: (14592, 99) \n",
      "new shape of test_data: (2880, 99)\n"
     ]
    }
   ],
   "source": [
    "print(f'new shape of train_data: {train.shape} \\nnew shape of test_data: {test.shape}')"
   ]
  },
  {
   "cell_type": "code",
   "execution_count": 9,
   "metadata": {},
   "outputs": [],
   "source": [
    "saved_train_path = '/data3/lsf/Pein/Power-Prediction/data/train_farm_99_withTime.csv'\n",
    "saved_test_path = '/data3/lsf/Pein/Power-Prediction/data/test_farm_99_withTime.csv'\n",
    "\n",
    "# save the new train and test data\n",
    "train.to_csv(saved_train_path, index=False)\n",
    "test.to_csv(saved_test_path, index=False)\n",
    "\n"
   ]
  },
  {
   "cell_type": "code",
   "execution_count": null,
   "metadata": {},
   "outputs": [],
   "source": []
  }
 ],
 "metadata": {
  "kernelspec": {
   "display_name": "Pein_310",
   "language": "python",
   "name": "python3"
  },
  "language_info": {
   "codemirror_mode": {
    "name": "ipython",
    "version": 3
   },
   "file_extension": ".py",
   "mimetype": "text/x-python",
   "name": "python",
   "nbconvert_exporter": "python",
   "pygments_lexer": "ipython3",
   "version": "3.10.14"
  }
 },
 "nbformat": 4,
 "nbformat_minor": 2
}
