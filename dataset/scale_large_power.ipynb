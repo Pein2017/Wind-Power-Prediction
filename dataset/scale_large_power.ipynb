{
 "cells": [
  {
   "cell_type": "code",
   "execution_count": 1,
   "metadata": {},
   "outputs": [],
   "source": [
    "import numpy as np\n",
    "import pandas as pd\n",
    "import matplotlib.pyplot as plt\n",
    "\n",
    "\n",
    "train_path = \"/data3/lsf/Pein/Power-Prediction/data/train_farm_76_withTime.csv\"\n",
    "test_path = \"/data3/lsf/Pein/Power-Prediction/data/test_farm_76_withTime.csv\""
   ]
  },
  {
   "cell_type": "code",
   "execution_count": 8,
   "metadata": {},
   "outputs": [
    {
     "data": {
      "text/plain": [
       "count    2880.000000\n",
       "mean        8.171870\n",
       "std         7.876973\n",
       "min         0.000000\n",
       "25%         2.390256\n",
       "50%         5.230547\n",
       "75%        11.919732\n",
       "max        30.099605\n",
       "Name: power, dtype: float64"
      ]
     },
     "execution_count": 8,
     "metadata": {},
     "output_type": "execute_result"
    }
   ],
   "source": [
    "train_data = pd.read_csv(train_path)\n",
    "test_data= pd.read_csv(test_path)\n",
    "\n",
    "train_data.power = train_data.power * 1e-4\n",
    "# train_data.power.describe()\n",
    "\n",
    "test_data.power = test_data.power * 1e-4\n",
    "test_data.power.describe()\n"
   ]
  },
  {
   "cell_type": "code",
   "execution_count": 9,
   "metadata": {},
   "outputs": [],
   "source": [
    "out_train_path = \"/data3/lsf/Pein/Power-Prediction/data/train_farm_76_withTime-1e-4.csv\"\n",
    "train_data.to_csv(out_train_path, index=False)\n",
    "\n",
    "out_test_path = \"/data3/lsf/Pein/Power-Prediction/data/test_farm_76_withTime-1e-4.csv\"\n",
    "test_data.to_csv(out_test_path, index=False)"
   ]
  },
  {
   "cell_type": "code",
   "execution_count": null,
   "metadata": {},
   "outputs": [],
   "source": []
  }
 ],
 "metadata": {
  "kernelspec": {
   "display_name": "Pein_310",
   "language": "python",
   "name": "python3"
  },
  "language_info": {
   "codemirror_mode": {
    "name": "ipython",
    "version": 3
   },
   "file_extension": ".py",
   "mimetype": "text/x-python",
   "name": "python",
   "nbconvert_exporter": "python",
   "pygments_lexer": "ipython3",
   "version": "3.10.14"
  }
 },
 "nbformat": 4,
 "nbformat_minor": 2
}
