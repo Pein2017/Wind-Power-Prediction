{
 "cells": [
  {
   "cell_type": "code",
   "execution_count": 2,
   "metadata": {},
   "outputs": [
    {
     "name": "stdout",
     "output_type": "stream",
     "text": [
      "count     14592.000000\n",
      "mean     101382.392936\n",
      "std       83421.174800\n",
      "min           0.000000\n",
      "25%       31008.325000\n",
      "50%       80933.785000\n",
      "75%      153489.178750\n",
      "max      301368.970000\n",
      "Name: power, dtype: float64\n",
      "count      2880.000000\n",
      "mean      81718.698781\n",
      "std       78769.726131\n",
      "min           0.000000\n",
      "25%       23902.555000\n",
      "50%       52305.467500\n",
      "75%      119197.325000\n",
      "max      300996.055000\n",
      "Name: power, dtype: float64\n"
     ]
    }
   ],
   "source": [
    "import pandas as pd\n",
    "import numpy as np\n",
    "import matplotlib.pyplot as plt\n",
    "\n",
    "train_path = '4-train_66_withTime.csv'\n",
    "test_path = '4-test_66_withTime.csv'\n",
    "\n",
    "train = pd.read_csv(train_path)\n",
    "test = pd.read_csv(test_path)\n",
    "\n"
   ]
  },
  {
   "cell_type": "code",
   "execution_count": null,
   "metadata": {},
   "outputs": [],
   "source": []
  }
 ],
 "metadata": {
  "kernelspec": {
   "display_name": "Pein_310",
   "language": "python",
   "name": "python3"
  },
  "language_info": {
   "codemirror_mode": {
    "name": "ipython",
    "version": 3
   },
   "file_extension": ".py",
   "mimetype": "text/x-python",
   "name": "python",
   "nbconvert_exporter": "python",
   "pygments_lexer": "ipython3",
   "version": "3.10.14"
  }
 },
 "nbformat": 4,
 "nbformat_minor": 2
}
