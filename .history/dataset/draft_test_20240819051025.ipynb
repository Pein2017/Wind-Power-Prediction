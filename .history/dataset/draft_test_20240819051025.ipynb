{
 "cells": [
  {
   "cell_type": "code",
   "execution_count": 1,
   "metadata": {},
   "outputs": [
    {
     "name": "stdout",
     "output_type": "stream",
     "text": [
      "shape of train_input: (14592, 89)\n",
      "shape of test_input: (2880, 89)\n",
      "shape of train_new_power: (14592, 51)\n",
      "shape of test_new_power: (2880, 51)\n"
     ]
    }
   ],
   "source": [
    "import pandas as pd\n",
    "import numpy as np\n",
    "import matplotlib.pyplot as plt\n",
    "\n",
    "\n",
    "train_input_path = '/data/Pein/Pytorch/Wind-Power-Prediction/data/train_data_89_withTime.csv'\n",
    "test_input_path = '/data/Pein/Pytorch/Wind-Power-Prediction/data/test_data_89_withTime.csv'\n",
    "\n",
    "train_new_power_path = '/data/Pein/Pytorch/Wind-Power-Prediction/data/train_farm_51_withTime.csv'\n",
    "test_new_power_path = '/data/Pein/Pytorch/Wind-Power-Prediction/data/test_farm_51_withTime.csv'\n",
    "\n",
    "\n",
    "\n",
    "train_input = pd.read_csv(train_input_path)\n",
    "test_input = pd.read_csv(test_input_path)\n",
    "\n",
    "train_new_power = pd.read_csv(train_new_power_path)\n",
    "test_new_power = pd.read_csv(test_new_power_path)\n",
    "\n",
    "print(f'shape of train_input: {train_input.shape}')\n",
    "print(f'shape of test_input: {test_input.shape}')\n",
    "\n",
    "print(f'shape of train_new_power: {train_new_power.shape}')\n",
    "print(f'shape of test_new_power: {test_new_power.shape}')"
   ]
  },
  {
   "cell_type": "code",
   "execution_count": 2,
   "metadata": {},
   "outputs": [
    {
     "name": "stdout",
     "output_type": "stream",
     "text": [
      "mean of old train power is 559.4624451754386\n",
      "mean of old test power is 410.8113611111111\n",
      "mean of new train power is 540.7060956591587\n",
      "mean of new test power is 435.8330601666666\n"
     ]
    }
   ],
   "source": [
    "print(f'mean of old train power is {train_input.power.mean()}')\n",
    "print(f'mean of old test power is {test_input.power.mean()}')\n",
    "\n",
    "# Replace train_input.power by train_new_power.power\n",
    "train_input.power = train_new_power.power\n",
    "\n",
    "# Replace test_input.power by test_new_power.power\n",
    "test_input.power = test_new_power.power\n",
    "\n",
    "print(f'mean of new train power is {train_input.power.mean()}')\n",
    "print(f'mean of new test power is {test_input.power.mean()}')\n",
    "\n",
    "# export the train and test data\n",
    "train_input.to_csv('/data/Pein/Pytorch/Wind-Power-Prediction/data/train_farm_89_withTime.csv', index=False)\n",
    "test_input.to_csv('/data/Pein/Pytorch/Wind-Power-Prediction/data/test_farm_89_withTime.csv', index=False)"
   ]
  },
  {
   "cell_type": "markdown",
   "metadata": {},
   "source": [
    "### Check the input"
   ]
  },
  {
   "cell_type": "code",
   "execution_count": null,
   "metadata": {},
   "outputs": [],
   "source": []
  }
 ],
 "metadata": {
  "kernelspec": {
   "display_name": "Pein_310",
   "language": "python",
   "name": "python3"
  },
  "language_info": {
   "codemirror_mode": {
    "name": "ipython",
    "version": 3
   },
   "file_extension": ".py",
   "mimetype": "text/x-python",
   "name": "python",
   "nbconvert_exporter": "python",
   "pygments_lexer": "ipython3",
   "version": "3.10.14"
  }
 },
 "nbformat": 4,
 "nbformat_minor": 2
}
