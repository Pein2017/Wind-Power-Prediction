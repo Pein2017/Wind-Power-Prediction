{
 "cells": [
  {
   "cell_type": "code",
   "execution_count": 10,
   "metadata": {},
   "outputs": [],
   "source": [
    "import os\n",
    "import pandas as pd"
   ]
  },
  {
   "cell_type": "code",
   "execution_count": 11,
   "metadata": {},
   "outputs": [],
   "source": [
    "def collect_and_join_metrics(input_folder, output_folder):\n",
    "    # List to store dataframes\n",
    "    df_list = []\n",
    "    # List to store file paths for debugging\n",
    "    found_files = []\n",
    "\n",
    "    # Traverse the directory\n",
    "    for root, dirs, files in os.walk(input_folder):\n",
    "        for file in files:\n",
    "            if file == \"metrics.csv\":\n",
    "                # Read the CSV file\n",
    "                file_path = os.path.join(root, file)\n",
    "                found_files.append(file_path)\n",
    "                df = pd.read_csv(file_path)\n",
    "                df_list.append(df)\n",
    "\n",
    "    # Print found files for debugging\n",
    "    if not found_files:\n",
    "        print(\"No 'metrics.csv' files found.\")\n",
    "    else:\n",
    "        print(f\"Found 'metrics.csv' files: {found_files}\")\n",
    "\n",
    "    # Concatenate all dataframes\n",
    "    if df_list:\n",
    "        combined_df = pd.concat(df_list, ignore_index=True)\n",
    "\n",
    "        # Get the folder name\n",
    "        folder_name = os.path.basename(input_folder)\n",
    "\n",
    "        # Form the output CSV file name\n",
    "        output_file = f\"{folder_name}-joined_metrics.csv\"\n",
    "        output_path = os.path.join(output_folder, output_file)\n",
    "\n",
    "        # Ensure the output directory exists\n",
    "        os.makedirs(output_folder, exist_ok=True)\n",
    "\n",
    "        # Save the combined dataframe to a new CSV file\n",
    "        combined_df.to_csv(output_path, index=False)\n",
    "\n",
    "        return output_path\n",
    "    else:\n",
    "        return None"
   ]
  },
  {
   "cell_type": "code",
   "execution_count": 12,
   "metadata": {},
   "outputs": [
    {
     "name": "stdout",
     "output_type": "stream",
     "text": [
      "Found 'metrics.csv' files: ['/data3/lsf/Pein/Power-Prediction/res_output/24-08-16-mlp_v3-test-skip-none/seq_len-16-lr-0.01-d-128-hid_d-128-last_d-256-tok_d-3-time_d-4-pos_d-4-e_layers-2-tok_conv_k-5-bs-1024-norm_type-layer/version_0/metrics.csv', '/data3/lsf/Pein/Power-Prediction/res_output/24-08-16-mlp_v3-test-skip-none/seq_len-16-lr-0.01-d-128-hid_d-128-last_d-256-tok_d-3-time_d-4-pos_d-4-e_layers-2-tok_conv_k-5-bs-1024-norm_type-layer/version_1/metrics.csv', '/data3/lsf/Pein/Power-Prediction/res_output/24-08-16-mlp_v3-test-skip-none/seq_len-16-lr-0.05-d-64-hid_d-32-last_d-256-tok_d-3-time_d-4-pos_d-4-e_layers-2-tok_conv_k-5-bs-1024-norm_type-layer/version_0/metrics.csv', '/data3/lsf/Pein/Power-Prediction/res_output/24-08-16-mlp_v3-test-skip-none/seq_len-16-lr-0.05-d-160-hid_d-160-last_d-256-tok_d-3-time_d-4-pos_d-4-e_layers-2-tok_conv_k-5-bs-1024-norm_type-layer/version_0/metrics.csv', '/data3/lsf/Pein/Power-Prediction/res_output/24-08-16-mlp_v3-test-skip-none/seq_len-16-lr-0.05-d-128-hid_d-48-last_d-256-tok_d-3-time_d-4-pos_d-4-e_layers-2-tok_conv_k-5-bs-1024-norm_type-layer/version_0/metrics.csv', '/data3/lsf/Pein/Power-Prediction/res_output/24-08-16-mlp_v3-test-skip-none/seq_len-16-lr-0.01-d-96-hid_d-144-last_d-256-tok_d-3-time_d-4-pos_d-4-e_layers-2-tok_conv_k-5-bs-1024-norm_type-layer/version_0/metrics.csv', '/data3/lsf/Pein/Power-Prediction/res_output/24-08-16-mlp_v3-test-skip-none/seq_len-16-lr-0.01-d-96-hid_d-112-last_d-256-tok_d-3-time_d-4-pos_d-4-e_layers-2-tok_conv_k-5-bs-1024-norm_type-layer/version_0/metrics.csv', '/data3/lsf/Pein/Power-Prediction/res_output/24-08-16-mlp_v3-test-skip-none/seq_len-16-lr-0.01-d-96-hid_d-112-last_d-256-tok_d-3-time_d-4-pos_d-4-e_layers-2-tok_conv_k-5-bs-1024-norm_type-layer/version_1/metrics.csv', '/data3/lsf/Pein/Power-Prediction/res_output/24-08-16-mlp_v3-test-skip-none/seq_len-16-lr-0.01-d-96-hid_d-112-last_d-256-tok_d-3-time_d-4-pos_d-4-e_layers-2-tok_conv_k-5-bs-1024-norm_type-layer/version_2/metrics.csv', '/data3/lsf/Pein/Power-Prediction/res_output/24-08-16-mlp_v3-test-skip-none/seq_len-16-lr-0.01-d-96-hid_d-128-last_d-256-tok_d-3-time_d-4-pos_d-4-e_layers-2-tok_conv_k-5-bs-1024-norm_type-layer/version_0/metrics.csv', '/data3/lsf/Pein/Power-Prediction/res_output/24-08-16-mlp_v3-test-skip-none/seq_len-16-lr-0.05-d-96-hid_d-112-last_d-256-tok_d-3-time_d-4-pos_d-4-e_layers-2-tok_conv_k-5-bs-1024-norm_type-layer/version_0/metrics.csv', '/data3/lsf/Pein/Power-Prediction/res_output/24-08-16-mlp_v3-test-skip-none/seq_len-16-lr-0.01-d-96-hid_d-96-last_d-256-tok_d-3-time_d-4-pos_d-4-e_layers-2-tok_conv_k-5-bs-1024-norm_type-layer/version_0/metrics.csv', '/data3/lsf/Pein/Power-Prediction/res_output/24-08-16-mlp_v3-test-skip-none/seq_len-16-lr-0.01-d-96-hid_d-96-last_d-256-tok_d-3-time_d-4-pos_d-4-e_layers-2-tok_conv_k-5-bs-1024-norm_type-layer/version_1/metrics.csv', '/data3/lsf/Pein/Power-Prediction/res_output/24-08-16-mlp_v3-test-skip-none/seq_len-16-lr-0.05-d-128-hid_d-80-last_d-256-tok_d-3-time_d-4-pos_d-4-e_layers-2-tok_conv_k-5-bs-1024-norm_type-layer/version_0/metrics.csv', '/data3/lsf/Pein/Power-Prediction/res_output/24-08-16-mlp_v3-test-skip-none/seq_len-16-lr-0.005-d-128-hid_d-48-last_d-256-tok_d-3-time_d-4-pos_d-4-e_layers-2-tok_conv_k-5-bs-1024-norm_type-layer/version_0/metrics.csv', '/data3/lsf/Pein/Power-Prediction/res_output/24-08-16-mlp_v3-test-skip-none/seq_len-16-lr-0.005-d-64-hid_d-112-last_d-256-tok_d-3-time_d-4-pos_d-4-e_layers-2-tok_conv_k-5-bs-1024-norm_type-layer/version_0/metrics.csv', '/data3/lsf/Pein/Power-Prediction/res_output/24-08-16-mlp_v3-test-skip-none/seq_len-16-lr-0.01-d-96-hid_d-48-last_d-256-tok_d-3-time_d-4-pos_d-4-e_layers-2-tok_conv_k-5-bs-1024-norm_type-layer/version_0/metrics.csv', '/data3/lsf/Pein/Power-Prediction/res_output/24-08-16-mlp_v3-test-skip-none/seq_len-16-lr-0.05-d-128-hid_d-112-last_d-256-tok_d-3-time_d-4-pos_d-4-e_layers-2-tok_conv_k-5-bs-1024-norm_type-layer/version_0/metrics.csv', '/data3/lsf/Pein/Power-Prediction/res_output/24-08-16-mlp_v3-test-skip-none/seq_len-16-lr-0.005-d-128-hid_d-64-last_d-256-tok_d-3-time_d-4-pos_d-4-e_layers-2-tok_conv_k-5-bs-1024-norm_type-layer/version_0/metrics.csv', '/data3/lsf/Pein/Power-Prediction/res_output/24-08-16-mlp_v3-test-skip-none/seq_len-16-lr-0.005-d-96-hid_d-96-last_d-256-tok_d-3-time_d-4-pos_d-4-e_layers-2-tok_conv_k-5-bs-1024-norm_type-layer/version_0/metrics.csv', '/data3/lsf/Pein/Power-Prediction/res_output/24-08-16-mlp_v3-test-skip-none/seq_len-16-lr-0.005-d-160-hid_d-64-last_d-256-tok_d-3-time_d-4-pos_d-4-e_layers-2-tok_conv_k-5-bs-1024-norm_type-layer/version_0/metrics.csv', '/data3/lsf/Pein/Power-Prediction/res_output/24-08-16-mlp_v3-test-skip-none/seq_len-16-lr-0.005-d-96-hid_d-112-last_d-256-tok_d-3-time_d-4-pos_d-4-e_layers-2-tok_conv_k-5-bs-1024-norm_type-layer/version_0/metrics.csv', '/data3/lsf/Pein/Power-Prediction/res_output/24-08-16-mlp_v3-test-skip-none/seq_len-16-lr-0.01-d-160-hid_d-96-last_d-256-tok_d-3-time_d-4-pos_d-4-e_layers-2-tok_conv_k-5-bs-1024-norm_type-layer/version_0/metrics.csv', '/data3/lsf/Pein/Power-Prediction/res_output/24-08-16-mlp_v3-test-skip-none/seq_len-16-lr-0.01-d-96-hid_d-80-last_d-256-tok_d-3-time_d-4-pos_d-4-e_layers-2-tok_conv_k-5-bs-1024-norm_type-layer/version_0/metrics.csv', '/data3/lsf/Pein/Power-Prediction/res_output/24-08-16-mlp_v3-test-skip-none/seq_len-16-lr-0.005-d-128-hid_d-128-last_d-256-tok_d-3-time_d-4-pos_d-4-e_layers-2-tok_conv_k-5-bs-1024-norm_type-layer/version_0/metrics.csv', '/data3/lsf/Pein/Power-Prediction/res_output/24-08-16-mlp_v3-test-skip-none/seq_len-16-lr-0.01-d-160-hid_d-112-last_d-256-tok_d-3-time_d-4-pos_d-4-e_layers-2-tok_conv_k-5-bs-1024-norm_type-layer/version_0/metrics.csv', '/data3/lsf/Pein/Power-Prediction/res_output/24-08-16-mlp_v3-test-skip-none/seq_len-16-lr-0.05-d-96-hid_d-64-last_d-256-tok_d-3-time_d-4-pos_d-4-e_layers-2-tok_conv_k-5-bs-1024-norm_type-layer/version_0/metrics.csv', '/data3/lsf/Pein/Power-Prediction/res_output/24-08-16-mlp_v3-test-skip-none/seq_len-16-lr-0.005-d-160-hid_d-96-last_d-256-tok_d-3-time_d-4-pos_d-4-e_layers-2-tok_conv_k-5-bs-1024-norm_type-layer/version_0/metrics.csv', '/data3/lsf/Pein/Power-Prediction/res_output/24-08-16-mlp_v3-test-skip-none/seq_len-16-lr-0.05-d-160-hid_d-96-last_d-256-tok_d-3-time_d-4-pos_d-4-e_layers-2-tok_conv_k-5-bs-1024-norm_type-layer/version_0/metrics.csv', '/data3/lsf/Pein/Power-Prediction/res_output/24-08-16-mlp_v3-test-skip-none/seq_len-16-lr-0.01-d-128-hid_d-144-last_d-256-tok_d-3-time_d-4-pos_d-4-e_layers-2-tok_conv_k-5-bs-1024-norm_type-layer/version_0/metrics.csv', '/data3/lsf/Pein/Power-Prediction/res_output/24-08-16-mlp_v3-test-skip-none/seq_len-16-lr-0.01-d-128-hid_d-144-last_d-256-tok_d-3-time_d-4-pos_d-4-e_layers-2-tok_conv_k-5-bs-1024-norm_type-layer/version_1/metrics.csv', '/data3/lsf/Pein/Power-Prediction/res_output/24-08-16-mlp_v3-test-skip-none/seq_len-16-lr-0.01-d-128-hid_d-112-last_d-256-tok_d-3-time_d-4-pos_d-4-e_layers-2-tok_conv_k-5-bs-1024-norm_type-layer/version_0/metrics.csv', '/data3/lsf/Pein/Power-Prediction/res_output/24-08-16-mlp_v3-test-skip-none/seq_len-16-lr-0.01-d-128-hid_d-112-last_d-256-tok_d-3-time_d-4-pos_d-4-e_layers-2-tok_conv_k-5-bs-1024-norm_type-layer/version_3/metrics.csv', '/data3/lsf/Pein/Power-Prediction/res_output/24-08-16-mlp_v3-test-skip-none/seq_len-16-lr-0.01-d-128-hid_d-112-last_d-256-tok_d-3-time_d-4-pos_d-4-e_layers-2-tok_conv_k-5-bs-1024-norm_type-layer/version_1/metrics.csv', '/data3/lsf/Pein/Power-Prediction/res_output/24-08-16-mlp_v3-test-skip-none/seq_len-16-lr-0.01-d-128-hid_d-112-last_d-256-tok_d-3-time_d-4-pos_d-4-e_layers-2-tok_conv_k-5-bs-1024-norm_type-layer/version_2/metrics.csv', '/data3/lsf/Pein/Power-Prediction/res_output/24-08-16-mlp_v3-test-skip-none/seq_len-16-lr-0.005-d-96-hid_d-80-last_d-256-tok_d-3-time_d-4-pos_d-4-e_layers-2-tok_conv_k-5-bs-1024-norm_type-layer/version_0/metrics.csv', '/data3/lsf/Pein/Power-Prediction/res_output/24-08-16-mlp_v3-test-skip-none/seq_len-16-lr-0.01-d-128-hid_d-48-last_d-256-tok_d-3-time_d-4-pos_d-4-e_layers-2-tok_conv_k-5-bs-1024-norm_type-layer/version_0/metrics.csv', '/data3/lsf/Pein/Power-Prediction/res_output/24-08-16-mlp_v3-test-skip-none/seq_len-16-lr-0.005-d-160-hid_d-128-last_d-256-tok_d-3-time_d-4-pos_d-4-e_layers-2-tok_conv_k-5-bs-1024-norm_type-layer/version_0/metrics.csv', '/data3/lsf/Pein/Power-Prediction/res_output/24-08-16-mlp_v3-test-skip-none/seq_len-16-lr-0.005-d-96-hid_d-144-last_d-256-tok_d-3-time_d-4-pos_d-4-e_layers-2-tok_conv_k-5-bs-1024-norm_type-layer/version_0/metrics.csv', '/data3/lsf/Pein/Power-Prediction/res_output/24-08-16-mlp_v3-test-skip-none/seq_len-16-lr-0.005-d-96-hid_d-128-last_d-256-tok_d-3-time_d-4-pos_d-4-e_layers-2-tok_conv_k-5-bs-1024-norm_type-layer/version_0/metrics.csv']\n",
      "Output file created: /data3/lsf/Pein/Power-Prediction/res_output/24-08-16-mlp_v3-test-skip-none_result/24-08-16-mlp_v3-test-skip-none-joined_metrics.csv\n",
      "Found 'metrics.csv' files: ['/data3/lsf/Pein/Power-Prediction/res_output/24-08-16-mlp_v3-test-skip-none/seq_len-16-lr-0.01-d-128-hid_d-128-last_d-256-tok_d-3-time_d-4-pos_d-4-e_layers-2-tok_conv_k-5-bs-1024-norm_type-layer/version_0/metrics.csv', '/data3/lsf/Pein/Power-Prediction/res_output/24-08-16-mlp_v3-test-skip-none/seq_len-16-lr-0.01-d-128-hid_d-128-last_d-256-tok_d-3-time_d-4-pos_d-4-e_layers-2-tok_conv_k-5-bs-1024-norm_type-layer/version_1/metrics.csv', '/data3/lsf/Pein/Power-Prediction/res_output/24-08-16-mlp_v3-test-skip-none/seq_len-16-lr-0.05-d-64-hid_d-32-last_d-256-tok_d-3-time_d-4-pos_d-4-e_layers-2-tok_conv_k-5-bs-1024-norm_type-layer/version_0/metrics.csv', '/data3/lsf/Pein/Power-Prediction/res_output/24-08-16-mlp_v3-test-skip-none/seq_len-16-lr-0.05-d-160-hid_d-160-last_d-256-tok_d-3-time_d-4-pos_d-4-e_layers-2-tok_conv_k-5-bs-1024-norm_type-layer/version_0/metrics.csv', '/data3/lsf/Pein/Power-Prediction/res_output/24-08-16-mlp_v3-test-skip-none/seq_len-16-lr-0.05-d-128-hid_d-48-last_d-256-tok_d-3-time_d-4-pos_d-4-e_layers-2-tok_conv_k-5-bs-1024-norm_type-layer/version_0/metrics.csv', '/data3/lsf/Pein/Power-Prediction/res_output/24-08-16-mlp_v3-test-skip-none/seq_len-16-lr-0.01-d-96-hid_d-144-last_d-256-tok_d-3-time_d-4-pos_d-4-e_layers-2-tok_conv_k-5-bs-1024-norm_type-layer/version_0/metrics.csv', '/data3/lsf/Pein/Power-Prediction/res_output/24-08-16-mlp_v3-test-skip-none/seq_len-16-lr-0.01-d-96-hid_d-112-last_d-256-tok_d-3-time_d-4-pos_d-4-e_layers-2-tok_conv_k-5-bs-1024-norm_type-layer/version_0/metrics.csv', '/data3/lsf/Pein/Power-Prediction/res_output/24-08-16-mlp_v3-test-skip-none/seq_len-16-lr-0.01-d-96-hid_d-112-last_d-256-tok_d-3-time_d-4-pos_d-4-e_layers-2-tok_conv_k-5-bs-1024-norm_type-layer/version_1/metrics.csv', '/data3/lsf/Pein/Power-Prediction/res_output/24-08-16-mlp_v3-test-skip-none/seq_len-16-lr-0.01-d-96-hid_d-112-last_d-256-tok_d-3-time_d-4-pos_d-4-e_layers-2-tok_conv_k-5-bs-1024-norm_type-layer/version_2/metrics.csv', '/data3/lsf/Pein/Power-Prediction/res_output/24-08-16-mlp_v3-test-skip-none/seq_len-16-lr-0.01-d-96-hid_d-128-last_d-256-tok_d-3-time_d-4-pos_d-4-e_layers-2-tok_conv_k-5-bs-1024-norm_type-layer/version_0/metrics.csv', '/data3/lsf/Pein/Power-Prediction/res_output/24-08-16-mlp_v3-test-skip-none/seq_len-16-lr-0.05-d-96-hid_d-112-last_d-256-tok_d-3-time_d-4-pos_d-4-e_layers-2-tok_conv_k-5-bs-1024-norm_type-layer/version_0/metrics.csv', '/data3/lsf/Pein/Power-Prediction/res_output/24-08-16-mlp_v3-test-skip-none/seq_len-16-lr-0.01-d-96-hid_d-96-last_d-256-tok_d-3-time_d-4-pos_d-4-e_layers-2-tok_conv_k-5-bs-1024-norm_type-layer/version_0/metrics.csv', '/data3/lsf/Pein/Power-Prediction/res_output/24-08-16-mlp_v3-test-skip-none/seq_len-16-lr-0.01-d-96-hid_d-96-last_d-256-tok_d-3-time_d-4-pos_d-4-e_layers-2-tok_conv_k-5-bs-1024-norm_type-layer/version_1/metrics.csv', '/data3/lsf/Pein/Power-Prediction/res_output/24-08-16-mlp_v3-test-skip-none/seq_len-16-lr-0.05-d-128-hid_d-80-last_d-256-tok_d-3-time_d-4-pos_d-4-e_layers-2-tok_conv_k-5-bs-1024-norm_type-layer/version_0/metrics.csv', '/data3/lsf/Pein/Power-Prediction/res_output/24-08-16-mlp_v3-test-skip-none/seq_len-16-lr-0.005-d-128-hid_d-48-last_d-256-tok_d-3-time_d-4-pos_d-4-e_layers-2-tok_conv_k-5-bs-1024-norm_type-layer/version_0/metrics.csv', '/data3/lsf/Pein/Power-Prediction/res_output/24-08-16-mlp_v3-test-skip-none/seq_len-16-lr-0.005-d-64-hid_d-112-last_d-256-tok_d-3-time_d-4-pos_d-4-e_layers-2-tok_conv_k-5-bs-1024-norm_type-layer/version_0/metrics.csv', '/data3/lsf/Pein/Power-Prediction/res_output/24-08-16-mlp_v3-test-skip-none/seq_len-16-lr-0.01-d-96-hid_d-48-last_d-256-tok_d-3-time_d-4-pos_d-4-e_layers-2-tok_conv_k-5-bs-1024-norm_type-layer/version_0/metrics.csv', '/data3/lsf/Pein/Power-Prediction/res_output/24-08-16-mlp_v3-test-skip-none/seq_len-16-lr-0.05-d-128-hid_d-112-last_d-256-tok_d-3-time_d-4-pos_d-4-e_layers-2-tok_conv_k-5-bs-1024-norm_type-layer/version_0/metrics.csv', '/data3/lsf/Pein/Power-Prediction/res_output/24-08-16-mlp_v3-test-skip-none/seq_len-16-lr-0.005-d-128-hid_d-64-last_d-256-tok_d-3-time_d-4-pos_d-4-e_layers-2-tok_conv_k-5-bs-1024-norm_type-layer/version_0/metrics.csv', '/data3/lsf/Pein/Power-Prediction/res_output/24-08-16-mlp_v3-test-skip-none/seq_len-16-lr-0.005-d-96-hid_d-96-last_d-256-tok_d-3-time_d-4-pos_d-4-e_layers-2-tok_conv_k-5-bs-1024-norm_type-layer/version_0/metrics.csv', '/data3/lsf/Pein/Power-Prediction/res_output/24-08-16-mlp_v3-test-skip-none/seq_len-16-lr-0.005-d-160-hid_d-64-last_d-256-tok_d-3-time_d-4-pos_d-4-e_layers-2-tok_conv_k-5-bs-1024-norm_type-layer/version_0/metrics.csv', '/data3/lsf/Pein/Power-Prediction/res_output/24-08-16-mlp_v3-test-skip-none/seq_len-16-lr-0.005-d-96-hid_d-112-last_d-256-tok_d-3-time_d-4-pos_d-4-e_layers-2-tok_conv_k-5-bs-1024-norm_type-layer/version_0/metrics.csv', '/data3/lsf/Pein/Power-Prediction/res_output/24-08-16-mlp_v3-test-skip-none/seq_len-16-lr-0.01-d-160-hid_d-96-last_d-256-tok_d-3-time_d-4-pos_d-4-e_layers-2-tok_conv_k-5-bs-1024-norm_type-layer/version_0/metrics.csv', '/data3/lsf/Pein/Power-Prediction/res_output/24-08-16-mlp_v3-test-skip-none/seq_len-16-lr-0.01-d-96-hid_d-80-last_d-256-tok_d-3-time_d-4-pos_d-4-e_layers-2-tok_conv_k-5-bs-1024-norm_type-layer/version_0/metrics.csv', '/data3/lsf/Pein/Power-Prediction/res_output/24-08-16-mlp_v3-test-skip-none/seq_len-16-lr-0.005-d-128-hid_d-128-last_d-256-tok_d-3-time_d-4-pos_d-4-e_layers-2-tok_conv_k-5-bs-1024-norm_type-layer/version_0/metrics.csv', '/data3/lsf/Pein/Power-Prediction/res_output/24-08-16-mlp_v3-test-skip-none/seq_len-16-lr-0.01-d-160-hid_d-112-last_d-256-tok_d-3-time_d-4-pos_d-4-e_layers-2-tok_conv_k-5-bs-1024-norm_type-layer/version_0/metrics.csv', '/data3/lsf/Pein/Power-Prediction/res_output/24-08-16-mlp_v3-test-skip-none/seq_len-16-lr-0.05-d-96-hid_d-64-last_d-256-tok_d-3-time_d-4-pos_d-4-e_layers-2-tok_conv_k-5-bs-1024-norm_type-layer/version_0/metrics.csv', '/data3/lsf/Pein/Power-Prediction/res_output/24-08-16-mlp_v3-test-skip-none/seq_len-16-lr-0.005-d-160-hid_d-96-last_d-256-tok_d-3-time_d-4-pos_d-4-e_layers-2-tok_conv_k-5-bs-1024-norm_type-layer/version_0/metrics.csv', '/data3/lsf/Pein/Power-Prediction/res_output/24-08-16-mlp_v3-test-skip-none/seq_len-16-lr-0.05-d-160-hid_d-96-last_d-256-tok_d-3-time_d-4-pos_d-4-e_layers-2-tok_conv_k-5-bs-1024-norm_type-layer/version_0/metrics.csv', '/data3/lsf/Pein/Power-Prediction/res_output/24-08-16-mlp_v3-test-skip-none/seq_len-16-lr-0.01-d-128-hid_d-144-last_d-256-tok_d-3-time_d-4-pos_d-4-e_layers-2-tok_conv_k-5-bs-1024-norm_type-layer/version_0/metrics.csv', '/data3/lsf/Pein/Power-Prediction/res_output/24-08-16-mlp_v3-test-skip-none/seq_len-16-lr-0.01-d-128-hid_d-144-last_d-256-tok_d-3-time_d-4-pos_d-4-e_layers-2-tok_conv_k-5-bs-1024-norm_type-layer/version_1/metrics.csv', '/data3/lsf/Pein/Power-Prediction/res_output/24-08-16-mlp_v3-test-skip-none/seq_len-16-lr-0.01-d-128-hid_d-112-last_d-256-tok_d-3-time_d-4-pos_d-4-e_layers-2-tok_conv_k-5-bs-1024-norm_type-layer/version_0/metrics.csv', '/data3/lsf/Pein/Power-Prediction/res_output/24-08-16-mlp_v3-test-skip-none/seq_len-16-lr-0.01-d-128-hid_d-112-last_d-256-tok_d-3-time_d-4-pos_d-4-e_layers-2-tok_conv_k-5-bs-1024-norm_type-layer/version_3/metrics.csv', '/data3/lsf/Pein/Power-Prediction/res_output/24-08-16-mlp_v3-test-skip-none/seq_len-16-lr-0.01-d-128-hid_d-112-last_d-256-tok_d-3-time_d-4-pos_d-4-e_layers-2-tok_conv_k-5-bs-1024-norm_type-layer/version_1/metrics.csv', '/data3/lsf/Pein/Power-Prediction/res_output/24-08-16-mlp_v3-test-skip-none/seq_len-16-lr-0.01-d-128-hid_d-112-last_d-256-tok_d-3-time_d-4-pos_d-4-e_layers-2-tok_conv_k-5-bs-1024-norm_type-layer/version_2/metrics.csv', '/data3/lsf/Pein/Power-Prediction/res_output/24-08-16-mlp_v3-test-skip-none/seq_len-16-lr-0.005-d-96-hid_d-80-last_d-256-tok_d-3-time_d-4-pos_d-4-e_layers-2-tok_conv_k-5-bs-1024-norm_type-layer/version_0/metrics.csv', '/data3/lsf/Pein/Power-Prediction/res_output/24-08-16-mlp_v3-test-skip-none/seq_len-16-lr-0.01-d-128-hid_d-48-last_d-256-tok_d-3-time_d-4-pos_d-4-e_layers-2-tok_conv_k-5-bs-1024-norm_type-layer/version_0/metrics.csv', '/data3/lsf/Pein/Power-Prediction/res_output/24-08-16-mlp_v3-test-skip-none/seq_len-16-lr-0.005-d-160-hid_d-128-last_d-256-tok_d-3-time_d-4-pos_d-4-e_layers-2-tok_conv_k-5-bs-1024-norm_type-layer/version_0/metrics.csv', '/data3/lsf/Pein/Power-Prediction/res_output/24-08-16-mlp_v3-test-skip-none/seq_len-16-lr-0.005-d-96-hid_d-144-last_d-256-tok_d-3-time_d-4-pos_d-4-e_layers-2-tok_conv_k-5-bs-1024-norm_type-layer/version_0/metrics.csv', '/data3/lsf/Pein/Power-Prediction/res_output/24-08-16-mlp_v3-test-skip-none/seq_len-16-lr-0.005-d-96-hid_d-128-last_d-256-tok_d-3-time_d-4-pos_d-4-e_layers-2-tok_conv_k-5-bs-1024-norm_type-layer/version_0/metrics.csv']\n",
      "Output file created: /data3/lsf/Pein/Power-Prediction/res_output/24-08-16-mlp_v3-test-skip-none_result/24-08-16-mlp_v3-test-skip-none-joined_metrics.csv\n"
     ]
    }
   ],
   "source": [
    "# Specify the base folder and time folder\n",
    "base_folder = \"/data3/lsf/Pein/Power-Prediction/res_output\"\n",
    "time_folder = \"24-08-16-mlp_v3-test-skip-none\"\n",
    "\n",
    "# Construct the input and output folders\n",
    "input_folder = os.path.join(base_folder, time_folder)\n",
    "output_folder = os.path.join(base_folder, f\"{time_folder}_result\")\n",
    "\n",
    "# Call the function and get the output file path\n",
    "output_file_path = collect_and_join_metrics(input_folder, output_folder)\n",
    "\n",
    "if output_file_path:\n",
    "    print(f\"Output file created: {output_file_path}\")\n",
    "else:\n",
    "    print(\"No output file created.\")\n",
    "\n",
    "\n",
    "# Call the function and get the output file path\n",
    "output_file_path = collect_and_join_metrics(input_folder, output_folder)\n",
    "\n",
    "if output_file_path:\n",
    "    print(f\"Output file created: {output_file_path}\")\n",
    "else:\n",
    "    print(\"No output file created.\")"
   ]
  },
  {
   "cell_type": "code",
   "execution_count": null,
   "metadata": {},
   "outputs": [],
   "source": []
  }
 ],
 "metadata": {
  "kernelspec": {
   "display_name": "Pein_310",
   "language": "python",
   "name": "python3"
  },
  "language_info": {
   "codemirror_mode": {
    "name": "ipython",
    "version": 3
   },
   "file_extension": ".py",
   "mimetype": "text/x-python",
   "name": "python",
   "nbconvert_exporter": "python",
   "pygments_lexer": "ipython3",
   "version": "3.10.14"
  }
 },
 "nbformat": 4,
 "nbformat_minor": 2
}
