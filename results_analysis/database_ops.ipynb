{
 "cells": [
  {
   "cell_type": "code",
   "execution_count": 1,
   "metadata": {},
   "outputs": [],
   "source": [
    "import sqlite3"
   ]
  },
  {
   "cell_type": "code",
   "execution_count": 2,
   "metadata": {},
   "outputs": [],
   "source": [
    "def remove_outliers(db_path, threshold=10000):\n",
    "    # Connect to the SQLite database\n",
    "    conn = sqlite3.connect(db_path)\n",
    "    cursor = conn.cursor()\n",
    "\n",
    "    # Identify trials with objective values greater than the threshold\n",
    "    cursor.execute(\"SELECT trial_id, value FROM trial_values WHERE value > ?\", (threshold,))\n",
    "    outliers = cursor.fetchall()\n",
    "\n",
    "    if not outliers:\n",
    "        print(\"No outliers found.\")\n",
    "        conn.close()\n",
    "        return\n",
    "\n",
    "    print(f\"Found {len(outliers)} outliers. Removing...\")\n",
    "\n",
    "    # Remove the identified outliers\n",
    "    for trial_id, value in outliers:\n",
    "        print(f\"Removing trial_id: {trial_id}, value: {value}\")\n",
    "        cursor.execute(\"DELETE FROM trials WHERE trial_id = ?\", (trial_id,))\n",
    "        cursor.execute(\"DELETE FROM trial_params WHERE trial_id = ?\", (trial_id,))\n",
    "        cursor.execute(\"DELETE FROM trial_values WHERE trial_id = ?\", (trial_id,))\n",
    "        cursor.execute(\"DELETE FROM trial_user_attributes WHERE trial_id = ?\", (trial_id,))\n",
    "        cursor.execute(\"DELETE FROM trial_system_attributes WHERE trial_id = ?\", (trial_id,))\n",
    "        cursor.execute(\"DELETE FROM trial_intermediate_values WHERE trial_id = ?\", (trial_id,))\n",
    "        cursor.execute(\"DELETE FROM trial_heartbeats WHERE trial_id = ?\", (trial_id,))\n",
    "\n",
    "    # Commit the changes and close the connection\n",
    "    conn.commit()\n",
    "    conn.close()\n",
    "\n",
    "    print(\"Outliers removed successfully.\")\n"
   ]
  },
  {
   "cell_type": "code",
   "execution_count": 3,
   "metadata": {},
   "outputs": [],
   "source": [
    "def list_tables(db_path):\n",
    "    conn = sqlite3.connect(db_path)\n",
    "    cursor = conn.cursor()\n",
    "\n",
    "    cursor.execute(\"SELECT name FROM sqlite_master WHERE type='table';\")\n",
    "    tables = cursor.fetchall()\n",
    "\n",
    "    print(\"Tables in the database:\")\n",
    "    for table in tables:\n",
    "        print(table[0])\n",
    "\n",
    "    conn.close()\n",
    "    \n",
    "    \n",
    "def list_columns(db_path, table_name):\n",
    "    conn = sqlite3.connect(db_path)\n",
    "    cursor = conn.cursor()\n",
    "\n",
    "    cursor.execute(f\"PRAGMA table_info({table_name});\")\n",
    "    columns = cursor.fetchall()\n",
    "\n",
    "    print(f\"Columns in the {table_name} table:\")\n",
    "    for column in columns:\n",
    "        print(column)\n",
    "\n",
    "    conn.close()"
   ]
  },
  {
   "cell_type": "code",
   "execution_count": 4,
   "metadata": {},
   "outputs": [],
   "source": [
    "def delete_trials_by_number_or_state(db_path, trial_number=None, state=None):\n",
    "    # Connect to the SQLite database\n",
    "    conn = sqlite3.connect(db_path)\n",
    "    cursor = conn.cursor()\n",
    "\n",
    "    if trial_number is not None:\n",
    "        # Identify trials with the specified number\n",
    "        cursor.execute(\"SELECT trial_id FROM trials WHERE number = ?\", (trial_number,))\n",
    "        trials_to_delete = cursor.fetchall()\n",
    "        print(f\"Found {len(trials_to_delete)} trials with number {trial_number}. Removing...\")\n",
    "\n",
    "    elif state is not None:\n",
    "        # Identify trials with the specified state\n",
    "        cursor.execute(\"SELECT trial_id FROM trials WHERE state = ?\", (state,))\n",
    "        trials_to_delete = cursor.fetchall()\n",
    "        print(f\"Found {len(trials_to_delete)} trials with state {state}. Removing...\")\n",
    "\n",
    "    else:\n",
    "        print(\"No criteria specified for deletion.\")\n",
    "        conn.close()\n",
    "        return\n",
    "\n",
    "    if not trials_to_delete:\n",
    "        print(\"No matching trials found.\")\n",
    "        conn.close()\n",
    "        return\n",
    "\n",
    "    # Remove the identified trials\n",
    "    for (trial_id,) in trials_to_delete:\n",
    "        print(f\"Removing trial_id: {trial_id}\")\n",
    "        cursor.execute(\"DELETE FROM trials WHERE trial_id = ?\", (trial_id,))\n",
    "        cursor.execute(\"DELETE FROM trial_params WHERE trial_id = ?\", (trial_id,))\n",
    "        cursor.execute(\"DELETE FROM trial_values WHERE trial_id = ?\", (trial_id,))\n",
    "        cursor.execute(\"DELETE FROM trial_user_attributes WHERE trial_id = ?\", (trial_id,))\n",
    "        cursor.execute(\"DELETE FROM trial_system_attributes WHERE trial_id = ?\", (trial_id,))\n",
    "        cursor.execute(\"DELETE FROM trial_intermediate_values WHERE trial_id = ?\", (trial_id,))\n",
    "        cursor.execute(\"DELETE FROM trial_heartbeats WHERE trial_id = ?\", (trial_id,))\n",
    "\n",
    "    # Commit the changes and close the connection\n",
    "    conn.commit()\n",
    "    conn.close()\n",
    "\n",
    "    print(\"Specified trials removed successfully.\")"
   ]
  },
  {
   "cell_type": "code",
   "execution_count": 5,
   "metadata": {},
   "outputs": [],
   "source": [
    "# Path to your SQLite database\n",
    "db_path = \"/data3/lsf/Pein/Power-Prediction/optuna_results/24-08-01/24-08-01-farm_dataset.db\"\n"
   ]
  },
  {
   "cell_type": "code",
   "execution_count": 6,
   "metadata": {},
   "outputs": [],
   "source": [
    "\n",
    "# List columns in the relevant tables\n",
    "\n",
    "# list_tables(db_path)\n",
    "# list_columns(db_path, \"trials\")\n",
    "# list_columns(db_path, \"trial_values\")\n"
   ]
  },
  {
   "cell_type": "code",
   "execution_count": 7,
   "metadata": {},
   "outputs": [],
   "source": [
    "\n",
    "# trial_id = 0\n",
    "# delete_trials_by_number_or_state(db_path, trial_number=0)\n",
    "\n",
    "# Delete trials by state\n",
    "# delete_trials_by_number_or_state(db_path, state='Fail')"
   ]
  },
  {
   "cell_type": "code",
   "execution_count": 8,
   "metadata": {},
   "outputs": [
    {
     "name": "stdout",
     "output_type": "stream",
     "text": [
      "Found 1 outliers. Removing...\n",
      "Removing trial_id: 283, value: 1114.164599609375\n",
      "Outliers removed successfully.\n"
     ]
    }
   ],
   "source": [
    "remove_outliers(db_path,1000)"
   ]
  },
  {
   "cell_type": "code",
   "execution_count": 9,
   "metadata": {},
   "outputs": [
    {
     "name": "stderr",
     "output_type": "stream",
     "text": [
      "/home/lsf/anaconda3/envs/Pein_310/lib/python3.10/site-packages/tqdm/auto.py:21: TqdmWarning: IProgress not found. Please update jupyter and ipywidgets. See https://ipywidgets.readthedocs.io/en/stable/user_install.html\n",
      "  from .autonotebook import tqdm as notebook_tqdm\n"
     ]
    },
    {
     "name": "stdout",
     "output_type": "stream",
     "text": [
      "Hyperparameter importance:\n"
     ]
    }
   ],
   "source": [
    "import optuna\n",
    "from optuna.importance import get_param_importances\n",
    "\n",
    "def analyze_hyperparameter_importance(study):\n",
    "    # Compute hyperparameter importance\n",
    "    importance = get_param_importances(study)\n",
    "\n",
    "    print(\"Hyperparameter importance:\")\n",
    "    for param, imp in importance.items():\n",
    "        print(f\"{param}: {imp}\")\n",
    "\n",
    "# Path to your SQLite database\n",
    "db_path = \"/data3/lsf/Pein/Power-Prediction/optuna_results/24-07-21/24-07-21-search.db\"\n",
    "study_name = \"24-07-21-search\"  # Study name\n",
    "\n",
    "# Load the existing study\n",
    "study = optuna.load_study(study_name=study_name, storage=f\"sqlite:///{db_path}\")\n",
    "\n",
    "# Analyze hyperparameter importance\n",
    "analyze_hyperparameter_importance(study)"
   ]
  }
 ],
 "metadata": {
  "kernelspec": {
   "display_name": "Pein_310",
   "language": "python",
   "name": "python3"
  },
  "language_info": {
   "codemirror_mode": {
    "name": "ipython",
    "version": 3
   },
   "file_extension": ".py",
   "mimetype": "text/x-python",
   "name": "python",
   "nbconvert_exporter": "python",
   "pygments_lexer": "ipython3",
   "version": "3.10.14"
  }
 },
 "nbformat": 4,
 "nbformat_minor": 2
}
