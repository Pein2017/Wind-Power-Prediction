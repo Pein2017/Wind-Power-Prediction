{
 "cells": [
  {
   "cell_type": "code",
   "execution_count": null,
   "metadata": {},
   "outputs": [],
   "source": [
    "import pandas as pd\n",
    "import numpy as np  # noqa\n",
    "import optuna\n",
    "import time\n",
    "import logging  # noqa\n",
    "from sklearn.model_selection import train_test_split\n",
    "from sklearn.metrics import root_mean_squared_error\n",
    "from lightgbm import LGBMRegressor, early_stopping, log_evaluation\n",
    "\n",
    "# Enable logging\n",
    "optuna.logging.set_verbosity(optuna.logging.INFO)\n",
    "\n",
    "\n",
    "class TimingCallback:\n",
    "    def __init__(self):\n",
    "        self.start_time = None\n",
    "\n",
    "    def __call__(self, study, trial):\n",
    "        if self.start_time is None:\n",
    "            self.start_time = time.time()\n",
    "        else:\n",
    "            elapsed_time = time.time() - self.start_time\n",
    "            print(f\"Trial {trial.number} finished in {elapsed_time:.2f} seconds.\")\n",
    "            self.start_time = time.time()"
   ]
  },
  {
   "cell_type": "code",
   "execution_count": null,
   "metadata": {},
   "outputs": [],
   "source": [
    "data_dir = \"/data3/lsf/Pein/Power-Prediction/data/\"\n",
    "train_data_selected = pd.read_csv(data_dir + \"train_farm_66.csv\")\n",
    "test_data_selected = pd.read_csv(data_dir + \"test_farm_66.csv\")\n",
    "\n",
    "# Define features and target\n",
    "features = [\n",
    "    col\n",
    "    for col in train_data_selected.columns\n",
    "    if col not in [\"time\", \"lead_hour\", \"power\"]\n",
    "]\n",
    "X_train = train_data_selected[features]\n",
    "y_train = train_data_selected[\"power\"]\n",
    "X_test = test_data_selected[features]\n",
    "y_test = test_data_selected[\"power\"]"
   ]
  },
  {
   "cell_type": "markdown",
   "metadata": {},
   "source": [
    "### Adding time features"
   ]
  },
  {
   "cell_type": "code",
   "execution_count": null,
   "metadata": {},
   "outputs": [],
   "source": [
    "# Convert 'time' column to datetime\n",
    "train_data_selected[\"time\"] = pd.to_datetime(train_data_selected[\"time\"])\n",
    "test_data_selected[\"time\"] = pd.to_datetime(test_data_selected[\"time\"])"
   ]
  },
  {
   "cell_type": "code",
   "execution_count": null,
   "metadata": {},
   "outputs": [],
   "source": [
    "# Function to add time features\n",
    "def add_time_features(df):\n",
    "    df[\"time\"] = pd.to_datetime(df[\"time\"])\n",
    "\n",
    "    # Existing time features\n",
    "    df[\"hour\"] = df[\"time\"].dt.hour\n",
    "    df[\"quarter_hour\"] = df[\"time\"].dt.minute // 15\n",
    "\n",
    "    # New time features\n",
    "    df[\"day\"] = df[\"time\"].dt.day\n",
    "    df[\"day_in_week\"] = df[\"time\"].dt.weekday\n",
    "\n",
    "    # Sine and cosine transformations\n",
    "    df[\"hour_sin\"] = np.sin(2 * np.pi * df[\"hour\"] / 24)\n",
    "    df[\"hour_cos\"] = np.cos(2 * np.pi * df[\"hour\"] / 24)\n",
    "\n",
    "    df[\"quarter_hour_sin\"] = np.sin(2 * np.pi * df[\"quarter_hour\"] / 4)\n",
    "    df[\"quarter_hour_cos\"] = np.cos(2 * np.pi * df[\"quarter_hour\"] / 4)\n",
    "\n",
    "    df[\"day_sin\"] = np.sin(2 * np.pi * df[\"day\"] / 31)\n",
    "    df[\"day_cos\"] = np.cos(2 * np.pi * df[\"day\"] / 31)\n",
    "\n",
    "    df[\"day_in_week_sin\"] = np.sin(2 * np.pi * df[\"day_in_week\"] / 7)\n",
    "    df[\"day_in_week_cos\"] = np.cos(2 * np.pi * df[\"day_in_week\"] / 7)\n",
    "\n",
    "    return df"
   ]
  },
  {
   "cell_type": "code",
   "execution_count": null,
   "metadata": {},
   "outputs": [],
   "source": [
    "# Add time features to both train and test data\n",
    "train_data_selected = add_time_features(train_data_selected)\n",
    "test_data_selected = add_time_features(test_data_selected)"
   ]
  },
  {
   "cell_type": "code",
   "execution_count": null,
   "metadata": {},
   "outputs": [],
   "source": []
  },
  {
   "cell_type": "code",
   "execution_count": null,
   "metadata": {},
   "outputs": [],
   "source": [
    "# Define features including the new time features\n",
    "time_features = [\n",
    "    \"hour\",\n",
    "    \"quarter_hour\",\n",
    "    \"day\",\n",
    "    \"day_in_week\",\n",
    "    \"hour_sin\",\n",
    "    \"hour_cos\",\n",
    "    \"quarter_hour_sin\",\n",
    "    \"quarter_hour_cos\",\n",
    "    \"day_sin\",\n",
    "    \"day_cos\",\n",
    "    \"day_in_week_sin\",\n",
    "    \"day_in_week_cos\",\n",
    "]"
   ]
  },
  {
   "cell_type": "code",
   "execution_count": null,
   "metadata": {},
   "outputs": [],
   "source": [
    "all_features = features + time_features\n",
    "\n",
    "X_train = train_data_selected[all_features]\n",
    "X_test = test_data_selected[all_features]"
   ]
  },
  {
   "cell_type": "code",
   "execution_count": null,
   "metadata": {},
   "outputs": [],
   "source": [
    "def objective(\n",
    "    trial,\n",
    "    X_train,\n",
    "    y_train,\n",
    "    X_test=None,\n",
    "    y_test=None,\n",
    "    use_test_for_validation_flag=False,\n",
    "):\n",
    "    params = {\n",
    "        \"objective\": \"regression\",\n",
    "        \"metric\": \"rmse\",\n",
    "        \"boosting_type\": \"gbdt\",\n",
    "        \"num_leaves\": trial.suggest_int(\"num_leaves\", 10, 80),\n",
    "        \"max_depth\": trial.suggest_int(\"max_depth\", 10, 50),\n",
    "        \"learning_rate\": trial.suggest_float(\"learning_rate\", 0.01, 0.2),\n",
    "        \"n_estimators\": trial.suggest_int(\"n_estimators\", 500, 1500),\n",
    "        \"min_child_samples\": trial.suggest_int(\"min_child_samples\", 10, 50),\n",
    "        \"subsample\": trial.suggest_float(\"subsample\", 0.3, 1.0),\n",
    "        \"colsample_bytree\": trial.suggest_float(\"colsample_bytree\", 0.5, 1.0),\n",
    "        \"num_threads\": 16,\n",
    "        \"seed\": 42,\n",
    "    }\n",
    "\n",
    "    model = LGBMRegressor(**params)\n",
    "\n",
    "    if use_test_for_validation_flag and X_test is not None and y_test is not None:\n",
    "        X_val_split, y_val_split = X_test, y_test\n",
    "        model.fit(\n",
    "            X_train,\n",
    "            y_train,\n",
    "            eval_set=[(X_val_split, y_val_split)],\n",
    "            eval_metric=\"rmse\",\n",
    "            callbacks=[early_stopping(stopping_rounds=15), log_evaluation(period=500)],\n",
    "        )\n",
    "        preds = model.predict(X_val_split)\n",
    "    else:\n",
    "        X_train_split, X_val_split, y_train_split, y_val_split = train_test_split(\n",
    "            X_train, y_train, test_size=0.2, random_state=42\n",
    "        )\n",
    "        model.fit(\n",
    "            X_train_split,\n",
    "            y_train_split,\n",
    "            eval_set=[(X_val_split, y_val_split)],\n",
    "            eval_metric=\"rmse\",\n",
    "            callbacks=[early_stopping(stopping_rounds=15), log_evaluation(period=500)],\n",
    "        )\n",
    "        preds = model.predict(X_val_split)\n",
    "\n",
    "    # Calculate RMSE\n",
    "    rmse = root_mean_squared_error(y_val_split, preds)\n",
    "    return rmse"
   ]
  },
  {
   "cell_type": "code",
   "execution_count": null,
   "metadata": {},
   "outputs": [],
   "source": [
    "# Create the study and optimize\n",
    "use_test_for_validation_flag = False\n",
    "study = optuna.create_study(direction=\"minimize\")\n",
    "study.optimize(\n",
    "    lambda trial: objective(\n",
    "        trial,\n",
    "        X_train,\n",
    "        y_train,\n",
    "        X_test,\n",
    "        y_test,\n",
    "        use_test_for_validation_flag=use_test_for_validation_flag,\n",
    "    ),\n",
    "    n_trials=50,\n",
    "    callbacks=[TimingCallback()],\n",
    ")\n",
    "\n",
    "# Get the best parameters\n",
    "best_params = study.best_params\n",
    "print(\"Best parameters found: \", best_params)"
   ]
  },
  {
   "cell_type": "code",
   "execution_count": null,
   "metadata": {},
   "outputs": [],
   "source": [
    "# best_params = {\n",
    "#     \"num_leaves\": 70,\n",
    "#     \"max_depth\": 36,\n",
    "#     \"learning_rate\": 0.09304350950671668,\n",
    "#     \"n_estimators\": 1158,\n",
    "#     \"min_child_samples\": 18,\n",
    "#     \"subsample\": 0.579731306036922,\n",
    "#     \"colsample_bytree\": 0.8511910376678277,\n",
    "# }"
   ]
  },
  {
   "cell_type": "code",
   "execution_count": null,
   "metadata": {},
   "outputs": [],
   "source": [
    "print(\"Best parameters found: \", best_params)\n",
    "best_params[\"num_threads\"] = 16\n",
    "\n",
    "# Train the model with the best parameters\n",
    "best_model = LGBMRegressor(**best_params)\n",
    "best_model.fit(X_train, y_train)\n",
    "\n",
    "\n",
    "# Extract feature importances\n",
    "feature_importances = best_model.feature_importances_\n",
    "\n",
    "# Create a DataFrame to hold the features and their importances\n",
    "importance_df = pd.DataFrame(\n",
    "    {\"Feature\": X_train.columns, \"Importance\": feature_importances}\n",
    ")\n",
    "\n",
    "# Sort the DataFrame by importance\n",
    "importance_df = importance_df.sort_values(by=\"Importance\", ascending=False)"
   ]
  },
  {
   "cell_type": "code",
   "execution_count": null,
   "metadata": {},
   "outputs": [],
   "source": [
    "# Predict on the test set\n",
    "y_pred = best_model.predict(X_test)\n",
    "\n",
    "# Calculate RMSE\n",
    "rmse = root_mean_squared_error(y_test, y_pred)\n",
    "print(f\"RMSE on the test set: {rmse:.4f}\")"
   ]
  },
  {
   "cell_type": "code",
   "execution_count": null,
   "metadata": {},
   "outputs": [],
   "source": [
    "# save important_features to csv file\n",
    "if use_test_for_validation_flag:\n",
    "    importance_df.to_csv(\"farm_important_features_use_test_for_validation.csv\", index=False)\n",
    "else:\n",
    "    importance_df.to_csv(\"farm_important_features.csv\", index=False)"
   ]
  },
  {
   "cell_type": "code",
   "execution_count": null,
   "metadata": {},
   "outputs": [],
   "source": [
    "# Set the threshold for feature importance\n",
    "importance_threshold = 90\n",
    "\n",
    "# Select features with importance greater than or equal to the threshold\n",
    "selected_features = importance_df[importance_df[\"Importance\"] >= importance_threshold][\n",
    "    \"Feature\"\n",
    "].tolist()\n",
    "\n",
    "# Separate selected features into original input features and time features\n",
    "selected_input_features = [\n",
    "    feature for feature in selected_features if feature not in time_features\n",
    "]\n",
    "selected_time_features = [\n",
    "    feature for feature in selected_features if feature in time_features\n",
    "]"
   ]
  },
  {
   "cell_type": "code",
   "execution_count": null,
   "metadata": {},
   "outputs": [],
   "source": [
    "# Combine the filtered features with the power column and time features\n",
    "train_data_final = pd.concat(\n",
    "    [\n",
    "        train_data_selected[\"time\"],\n",
    "        X_train[selected_input_features],\n",
    "        train_data_selected[\"power\"],\n",
    "        train_data_selected[time_features],\n",
    "    ],\n",
    "    axis=1,\n",
    ")\n",
    "test_data_final = pd.concat(\n",
    "    [\n",
    "        test_data_selected[\"time\"],\n",
    "        X_test[selected_input_features],\n",
    "        test_data_selected[\"power\"],\n",
    "        test_data_selected[time_features],\n",
    "    ],\n",
    "    axis=1,\n",
    ")\n",
    "\n",
    "# Ensure the final order of columns\n",
    "final_columns = [\"time\"] + selected_input_features + [\"power\"] + time_features\n",
    "train_data_final = train_data_final[final_columns]\n",
    "test_data_final = test_data_final[final_columns]\n",
    "\n",
    "# Display the new shapes of train_data_final and test_data_final\n",
    "print(\"Shape of train_data_final:\", train_data_final.shape)\n",
    "print(\"Shape of test_data_final:\", test_data_final.shape)\n",
    "print(\"Selected input features:\", selected_input_features)\n",
    "print(f\"Train columns : {train_data_final.columns}\")"
   ]
  },
  {
   "cell_type": "code",
   "execution_count": null,
   "metadata": {},
   "outputs": [],
   "source": [
    "# Save the final datasets to CSV\n",
    "train_data_final.to_csv(data_dir + \"train_farm_76_withTime.csv\", index=False)\n",
    "test_data_final.to_csv(data_dir + \"test_farm_76_withTime.csv\", index=False)\n",
    "print(\"Final datasets saved to CSV.\")"
   ]
  },
  {
   "cell_type": "code",
   "execution_count": null,
   "metadata": {},
   "outputs": [],
   "source": []
  }
 ],
 "metadata": {
  "kernelspec": {
   "display_name": "Pein_310",
   "language": "python",
   "name": "python3"
  },
  "language_info": {
   "codemirror_mode": {
    "name": "ipython",
    "version": 3
   },
   "file_extension": ".py",
   "mimetype": "text/x-python",
   "name": "python",
   "nbconvert_exporter": "python",
   "pygments_lexer": "ipython3",
   "version": "3.10.14"
  }
 },
 "nbformat": 4,
 "nbformat_minor": 2
}
