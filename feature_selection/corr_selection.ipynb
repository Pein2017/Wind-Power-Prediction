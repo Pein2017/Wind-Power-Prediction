{
 "cells": [
  {
   "cell_type": "code",
   "execution_count": 15,
   "metadata": {},
   "outputs": [],
   "source": [
    "import pandas as pd\n",
    "import numpy as np\n",
    "\n",
    "\n",
    "data_dir = \"/data3/lsf/Pein/Power-Prediction/data/\"\n",
    "file_name_common = 'farm_98_withTime.csv'\n",
    "train_data = pd.read_csv(data_dir + f\"train_{file_name_common}\")\n",
    "test_data = pd.read_csv(data_dir + f\"test_{file_name_common}\")"
   ]
  },
  {
   "cell_type": "code",
   "execution_count": 16,
   "metadata": {},
   "outputs": [
    {
     "name": "stdout",
     "output_type": "stream",
     "text": [
      "train_data shape: (14592, 98), test_data shape: (2880, 98)\n"
     ]
    }
   ],
   "source": [
    "print(f'train_data shape: {train_data.shape}, test_data shape: {test_data.shape}')"
   ]
  },
  {
   "cell_type": "code",
   "execution_count": 17,
   "metadata": {},
   "outputs": [],
   "source": [
    "# Find the index of the 'power' column\n",
    "power_col_index = train_data.columns.get_loc('power')\n",
    "\n",
    "# Separate columns after 'power'\n",
    "train_data_after_power = train_data.iloc[:, power_col_index + 1:]\n",
    "test_data_after_power = test_data.iloc[:, power_col_index + 1:]\n",
    "\n",
    "# Drop columns after 'power' in both train and test data\n",
    "train_data = train_data.iloc[:, :power_col_index + 1]\n",
    "test_data = test_data.iloc[:, :power_col_index + 1]"
   ]
  },
  {
   "cell_type": "code",
   "execution_count": 18,
   "metadata": {},
   "outputs": [],
   "source": [
    "features = [\n",
    "    col for col in train_data.columns if col not in [\"time\", \"lead_hour\", \"power\"]\n",
    "]\n",
    "X = train_data[features]\n",
    "y = train_data[\"power\"]"
   ]
  },
  {
   "cell_type": "code",
   "execution_count": 19,
   "metadata": {},
   "outputs": [
    {
     "name": "stdout",
     "output_type": "stream",
     "text": [
      "u200 and u100 are highly correlated with value 0.994829574591168\n",
      "ws10 and fg10 are highly correlated with value 0.9753618887508309\n",
      "ws10 and flsr are highly correlated with value 0.9620513696418376\n",
      "u10 and u100 are highly correlated with value 0.9914585818093155\n",
      "u10 and u200 are highly correlated with value 0.9828139569086124\n",
      "ws100 and ws10 are highly correlated with value 0.9632489030801169\n",
      "ws100 and ws200 are highly correlated with value 0.9856607569397507\n",
      "i10fg and fg10 are highly correlated with value 0.9890530880488151\n",
      "i10fg and flsr are highly correlated with value 0.9589701782536405\n",
      "i10fg and ws10 are highly correlated with value 0.9917406597777553\n",
      "mlcape50 and mlcape100 are highly correlated with value 0.9669548077154803\n",
      "u10n and u100 are highly correlated with value 0.9847691582599196\n",
      "u10n and u200 are highly correlated with value 0.9758922721185141\n",
      "u10n and u10 are highly correlated with value 0.9977510542481862\n",
      "hwbt1 and hwbt0 are highly correlated with value 0.9908244196216979\n",
      "mucape and cape are highly correlated with value 0.9610424244529222\n",
      "mucape and mlcape100 are highly correlated with value 0.9566536181379254\n",
      "mucape and mlcape50 are highly correlated with value 0.9776738104226268\n",
      "fdir and dsrp are highly correlated with value 0.9601218375358865\n",
      "sshf and ishf are highly correlated with value 0.9979106709080964\n",
      "v10n and v200 are highly correlated with value 0.9852213967541984\n",
      "ssrd and fdir are highly correlated with value 0.9525522708797179\n",
      "v10 and v200 are highly correlated with value 0.9886587889419483\n",
      "v10 and v10n are highly correlated with value 0.9992694394379069\n",
      "par and ssrd are highly correlated with value 0.9988506036414686\n",
      "v100 and v200 are highly correlated with value 0.9967373560689994\n",
      "v100 and v10n are highly correlated with value 0.9937863860873926\n",
      "v100 and v10 are highly correlated with value 0.9965392793803599\n",
      "uvb and cdir are highly correlated with value 0.955582231366316\n",
      "uvb and ssrd are highly correlated with value 0.9954452330176224\n",
      "uvb and par are highly correlated with value 0.9968657428306092\n",
      "tsr and cdir are highly correlated with value 0.9730448017329514\n",
      "tsr and ssrd are highly correlated with value 0.9859741423950736\n",
      "tsr and par are highly correlated with value 0.9887676012730489\n",
      "tsr and uvb are highly correlated with value 0.9874278881450088\n",
      "tisr and cdir are highly correlated with value 0.9853567344210286\n",
      "tisr and tsr are highly correlated with value 0.9707679531314345\n",
      "sp and msl are highly correlated with value 0.999995746207018\n",
      "parcs and cdir are highly correlated with value 0.9973574818959623\n",
      "parcs and tsr are highly correlated with value 0.9724047288299933\n",
      "parcs and tisr are highly correlated with value 0.9944659154666535\n",
      "t2m and d2m are highly correlated with value 0.9516401191639533\n",
      "mx2t and d2m are highly correlated with value 0.9507199623523727\n",
      "mx2t and t2m are highly correlated with value 0.9993821113547404\n",
      "ssrc and cdir are highly correlated with value 0.9976507555681807\n",
      "ssrc and tsr are highly correlated with value 0.9729337813430107\n",
      "ssrc and tisr are highly correlated with value 0.994144136890534\n",
      "ssrc and parcs are highly correlated with value 0.9997799264630732\n",
      "tsrc and cdir are highly correlated with value 0.9915463279678195\n",
      "tsrc and tsr are highly correlated with value 0.973957351142128\n",
      "tsrc and tisr are highly correlated with value 0.9989535609486146\n",
      "tsrc and parcs are highly correlated with value 0.9978350556576233\n",
      "tsrc and ssrc are highly correlated with value 0.9977030554904032\n",
      "ssr and fdir are highly correlated with value 0.9542493179913458\n",
      "ssr and ssrd are highly correlated with value 0.9999400999079592\n",
      "ssr and par are highly correlated with value 0.9987584805725658\n",
      "ssr and uvb are highly correlated with value 0.995532090471907\n",
      "ssr and tsr are highly correlated with value 0.9850908726135189\n",
      "tcwv and tcw are highly correlated with value 0.9982879908868342\n",
      "mn2t and d2m are highly correlated with value 0.9530692829639116\n",
      "mn2t and t2m are highly correlated with value 0.9995214809699642\n",
      "mn2t and mx2t are highly correlated with value 0.999349744080411\n",
      "ssrdc and cdir are highly correlated with value 0.9968290790629226\n",
      "ssrdc and tsr are highly correlated with value 0.9731706320643218\n",
      "ssrdc and tisr are highly correlated with value 0.9954220763413398\n",
      "ssrdc and parcs are highly correlated with value 0.9997532683676595\n",
      "ssrdc and ssrc are highly correlated with value 0.9998988249733876\n",
      "ssrdc and tsrc are highly correlated with value 0.9983482469213772\n",
      "skt and sst are highly correlated with value 0.9995132000489764\n",
      "strdc and t2m are highly correlated with value 0.9513825467676926\n",
      "strdc and mx2t are highly correlated with value 0.9524301188503884\n",
      "strdc and mn2t are highly correlated with value 0.9507028463284819\n",
      "lblt and sst are highly correlated with value 0.9997879071278823\n",
      "lblt and skt are highly correlated with value 0.9996191710304781\n",
      "stl1 and sst are highly correlated with value 0.9997876522632434\n",
      "stl1 and skt are highly correlated with value 0.9996188703437496\n",
      "stl1 and lblt are highly correlated with value 0.9999993882478522\n"
     ]
    }
   ],
   "source": [
    "# Calculate the correlation matrix\n",
    "corr_matrix = X.corr().abs()\n",
    "\n",
    "# Set the threshold for correlation\n",
    "threshold = 0.95\n",
    "\n",
    "# Identify groups of features with high correlation\n",
    "groups = {}\n",
    "for i in range(len(corr_matrix.columns)):\n",
    "    feature = corr_matrix.columns[i]\n",
    "    if feature not in groups:\n",
    "        groups[feature] = {feature}\n",
    "    for j in range(i):\n",
    "        if corr_matrix.iloc[i, j] > threshold:\n",
    "            correlated_feature = corr_matrix.columns[j]\n",
    "            print(f\"{feature} and {correlated_feature} are highly correlated with value {corr_matrix.iloc[i, j]}\")\n",
    "            groups[feature].add(correlated_feature)\n",
    "            groups[correlated_feature] = groups[feature]"
   ]
  },
  {
   "cell_type": "code",
   "execution_count": 20,
   "metadata": {},
   "outputs": [
    {
     "name": "stdout",
     "output_type": "stream",
     "text": [
      "Selected features: {'p3020', 'mgws', 'tcc', 'deg0l', 'sund', 'v200', 'blh', 'ssrd', 'totalx', 'trpp', 'tcw', 'bld', 'ishf', 'ilspf', 'viwve', 'ttr', 'mcc', 'vimd', 'slhf', 'lgws', 'mudlp', 'kx', 'tcsw', 'u100', 'azimuth', 'ttrc', 'dsrp', 'strd', 'nsss', 'hwbt0', 'altitude', 'd2m', 'mld', 'msl', 'capes', 'fg10', 'str', 'litoti', 'lspf', 'degm10l', 'cape', 'strdc', 'gwd', 'ewss', 'sst', 'strc', 'cdir', 'viwvn', 'hcc', 'ws200', 'lcc'}\n"
     ]
    }
   ],
   "source": [
    "# Load feature importance data\n",
    "feat_imp = pd.read_csv('/data3/lsf/Pein/Power-Prediction/feature_selection/farm_important_features.csv')\n",
    "\n",
    "# Filter out features not in corr_matrix\n",
    "feat_imp = feat_imp[feat_imp['Feature'].isin(corr_matrix.columns)]\n",
    "\n",
    "# Sort features by importance\n",
    "feat_imp_sorted = feat_imp.sort_values(by='Importance', ascending=False)\n",
    "\n",
    "# Select the most important feature from each group\n",
    "selected_features = set()\n",
    "processed_features = set()\n",
    "\n",
    "for _, row in feat_imp_sorted.iterrows():\n",
    "    feature = row['Feature']\n",
    "    if feature not in processed_features:\n",
    "        selected_features.add(feature)\n",
    "        # Mark all features in the same group as processed\n",
    "        processed_features.update(groups[feature])\n",
    "\n",
    "# Print selected features\n",
    "print(\"Selected features:\", selected_features)\n"
   ]
  },
  {
   "cell_type": "code",
   "execution_count": 21,
   "metadata": {},
   "outputs": [
    {
     "name": "stdout",
     "output_type": "stream",
     "text": [
      "shape of train_data_selected: (14592, 53), shape of test_data_selected: (2880, 53)\n"
     ]
    }
   ],
   "source": [
    "# Ensure selected_features is a list\n",
    "selected_features = list(selected_features)\n",
    "\n",
    "# Create new DataFrames with the selected features before 'power'\n",
    "train_data_selected = train_data[['time'] + selected_features + ['power']]\n",
    "test_data_selected = test_data[['time'] + selected_features + ['power']]\n",
    "\n",
    "print(f'shape of train_data_selected: {train_data_selected.shape}, shape of test_data_selected: {test_data_selected.shape}')"
   ]
  },
  {
   "cell_type": "code",
   "execution_count": 22,
   "metadata": {},
   "outputs": [
    {
     "name": "stdout",
     "output_type": "stream",
     "text": [
      "train_data_final shape: (14592, 65), test_data_final shape: (2880, 65)\n"
     ]
    }
   ],
   "source": [
    "# Concatenate the columns after 'power' back to the DataFrames\n",
    "train_data_final = pd.concat([train_data_selected, train_data_after_power], axis=1)\n",
    "test_data_final = pd.concat([test_data_selected, test_data_after_power], axis=1)\n",
    "\n",
    "print(f'train_data_final shape: {train_data_final.shape}, test_data_final shape: {test_data_final.shape}')"
   ]
  },
  {
   "cell_type": "code",
   "execution_count": null,
   "metadata": {},
   "outputs": [],
   "source": []
  },
  {
   "cell_type": "code",
   "execution_count": 23,
   "metadata": {},
   "outputs": [],
   "source": [
    "file_name_common = 'farm_65_withTime.csv'\n",
    "\n",
    "# Export the new DataFrames to CSV files\n",
    "train_data_final.to_csv(f'/data3/lsf/Pein/Power-Prediction/data/train_{file_name_common}', index=False)\n",
    "test_data_final.to_csv(f'/data3/lsf/Pein/Power-Prediction/data/test_{file_name_common}', index=False)\n"
   ]
  },
  {
   "cell_type": "code",
   "execution_count": null,
   "metadata": {},
   "outputs": [],
   "source": []
  }
 ],
 "metadata": {
  "kernelspec": {
   "display_name": "Pein_310",
   "language": "python",
   "name": "python3"
  },
  "language_info": {
   "codemirror_mode": {
    "name": "ipython",
    "version": 3
   },
   "file_extension": ".py",
   "mimetype": "text/x-python",
   "name": "python",
   "nbconvert_exporter": "python",
   "pygments_lexer": "ipython3",
   "version": "3.10.14"
  }
 },
 "nbformat": 4,
 "nbformat_minor": 2
}
