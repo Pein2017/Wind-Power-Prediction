{
 "cells": [
  {
   "cell_type": "code",
   "execution_count": 1,
   "metadata": {},
   "outputs": [],
   "source": [
    "import pandas as pd\n",
    "import numpy as np\n",
    "\n",
    "\n",
    "data_dir = \"/data3/lsf/Pein/Power-Prediction/data/\"\n",
    "file_name_common = 'farm_65_withTime.csv'\n",
    "train_data = pd.read_csv(data_dir + f\"train_{file_name_common}\")\n",
    "test_data = pd.read_csv(data_dir + f\"test_{file_name_common}\")"
   ]
  },
  {
   "cell_type": "code",
   "execution_count": 2,
   "metadata": {},
   "outputs": [
    {
     "name": "stdout",
     "output_type": "stream",
     "text": [
      "train_data shape: (14592, 65), test_data shape: (2880, 65)\n"
     ]
    }
   ],
   "source": [
    "print(f'train_data shape: {train_data.shape}, test_data shape: {test_data.shape}')"
   ]
  },
  {
   "cell_type": "code",
   "execution_count": 3,
   "metadata": {},
   "outputs": [],
   "source": [
    "# Find the index of the 'power' column\n",
    "power_col_index = train_data.columns.get_loc('power')\n",
    "\n",
    "# Separate columns after 'power'\n",
    "train_data_after_power = train_data.iloc[:, power_col_index + 1:]\n",
    "test_data_after_power = test_data.iloc[:, power_col_index + 1:]\n",
    "\n",
    "# Drop columns after 'power' in both train and test data\n",
    "train_data = train_data.iloc[:, :power_col_index + 1]\n",
    "test_data = test_data.iloc[:, :power_col_index + 1]"
   ]
  },
  {
   "cell_type": "code",
   "execution_count": 4,
   "metadata": {},
   "outputs": [],
   "source": [
    "features = [\n",
    "    col for col in train_data.columns if col not in [\"time\", \"lead_hour\", \"power\"]\n",
    "]\n",
    "X = train_data[features]\n",
    "y = train_data[\"power\"]"
   ]
  },
  {
   "cell_type": "code",
   "execution_count": 26,
   "metadata": {},
   "outputs": [
    {
     "name": "stdout",
     "output_type": "stream",
     "text": [
      "slhf and ishf are highly correlated with value 0.8936591761972728\n",
      "kx and tcw are highly correlated with value 0.8308641050047784\n",
      "u100 and viwve are highly correlated with value 0.8098364902149452\n",
      "dsrp and ssrd are highly correlated with value 0.919063091411602\n",
      "strd and tcw are highly correlated with value 0.8458816551036464\n",
      "hwbt0 and tcw are highly correlated with value 0.9090302271242071\n",
      "altitude and ssrd are highly correlated with value 0.8086281593963618\n",
      "mld and d2m are highly correlated with value 0.8478418432129948\n",
      "msl and d2m are highly correlated with value 0.8787024188073399\n",
      "cape and capes are highly correlated with value 0.8066370774486115\n",
      "strdc and tcw are highly correlated with value 0.888548745123214\n",
      "strdc and strd are highly correlated with value 0.8507278880825903\n",
      "strdc and hwbt0 are highly correlated with value 0.8160927922664164\n",
      "strdc and d2m are highly correlated with value 0.9411586699247788\n",
      "strdc and mld are highly correlated with value 0.833853698810103\n",
      "strdc and msl are highly correlated with value 0.9033836184519682\n",
      "ewss and nsss are highly correlated with value 0.8518484755894765\n",
      "sst and tcw are highly correlated with value 0.819977657887605\n",
      "sst and hwbt0 are highly correlated with value 0.8017068095025822\n",
      "sst and strdc are highly correlated with value 0.8748782868267941\n",
      "strc and d2m are highly correlated with value 0.8681162855508071\n",
      "strc and msl are highly correlated with value 0.8043740071951059\n",
      "strc and strdc are highly correlated with value 0.8737718019754237\n",
      "cdir and ssrd are highly correlated with value 0.9397485304320495\n",
      "cdir and altitude are highly correlated with value 0.8537180242081607\n",
      "viwvn and v200 are highly correlated with value 0.8420347886054492\n",
      "ws200 and fg10 are highly correlated with value 0.8744055250391526\n"
     ]
    }
   ],
   "source": [
    "# Calculate the correlation matrix\n",
    "corr_matrix = X.corr().abs()\n",
    "\n",
    "# Set the threshold for correlation\n",
    "threshold = 0.8\n",
    "\n",
    "# Identify groups of features with high correlation\n",
    "groups = {}\n",
    "for i in range(len(corr_matrix.columns)):\n",
    "    feature = corr_matrix.columns[i]\n",
    "    if feature not in groups:\n",
    "        groups[feature] = {feature}\n",
    "    for j in range(i):\n",
    "        if corr_matrix.iloc[i, j] > threshold:\n",
    "            correlated_feature = corr_matrix.columns[j]\n",
    "            print(f\"{feature} and {correlated_feature} are highly correlated with value {corr_matrix.iloc[i, j]}\")\n",
    "            groups[feature].add(correlated_feature)\n",
    "            groups[correlated_feature] = groups[feature]"
   ]
  },
  {
   "cell_type": "code",
   "execution_count": 27,
   "metadata": {},
   "outputs": [
    {
     "name": "stdout",
     "output_type": "stream",
     "text": [
      "Selected features: {'p3020', 'lspf', 'litoti', 'viwvn', 'fg10', 'viwve', 'ishf', 'kx', 'strc', 'gwd', 'mcc', 'ttrc', 'totalx', 'ewss', 'deg0l', 'hcc', 'bld', 'tcc', 'altitude', 'degm10l', 'trpp', 'lcc', 'str', 'ttr', 'azimuth', 'mudlp', 'sst', 'mld', 'vimd', 'ilspf', 'tcsw', 'capes', 'lgws', 'mgws', 'dsrp', 'sund', 'blh'}\n"
     ]
    }
   ],
   "source": [
    "# Load feature importance data\n",
    "feat_imp = pd.read_csv('/data3/lsf/Pein/Power-Prediction/feature_selection/farm_important_features.csv')\n",
    "\n",
    "# Filter out features not in corr_matrix\n",
    "feat_imp = feat_imp[feat_imp['Feature'].isin(corr_matrix.columns)]\n",
    "\n",
    "# Sort features by importance\n",
    "feat_imp_sorted = feat_imp.sort_values(by='Importance', ascending=False)\n",
    "\n",
    "# Select the most important feature from each group\n",
    "selected_features = set()\n",
    "processed_features = set()\n",
    "\n",
    "for _, row in feat_imp_sorted.iterrows():\n",
    "    feature = row['Feature']\n",
    "    if feature not in processed_features:\n",
    "        selected_features.add(feature)\n",
    "        # Mark all features in the same group as processed\n",
    "        processed_features.update(groups[feature])\n",
    "\n",
    "# Print selected features\n",
    "print(\"Selected features:\", selected_features)\n"
   ]
  },
  {
   "cell_type": "code",
   "execution_count": 28,
   "metadata": {},
   "outputs": [
    {
     "name": "stdout",
     "output_type": "stream",
     "text": [
      "shape of train_data_selected: (14592, 39), shape of test_data_selected: (2880, 39)\n"
     ]
    }
   ],
   "source": [
    "# Ensure selected_features is a list\n",
    "selected_features = list(selected_features)\n",
    "\n",
    "# Create new DataFrames with the selected features before 'power'\n",
    "train_data_selected = train_data[['time'] + selected_features + ['power']]\n",
    "test_data_selected = test_data[['time'] + selected_features + ['power']]\n",
    "\n",
    "print(f'shape of train_data_selected: {train_data_selected.shape}, shape of test_data_selected: {test_data_selected.shape}')"
   ]
  },
  {
   "cell_type": "code",
   "execution_count": 29,
   "metadata": {},
   "outputs": [
    {
     "name": "stdout",
     "output_type": "stream",
     "text": [
      "train_data_final shape: (14592, 51), test_data_final shape: (2880, 51)\n"
     ]
    }
   ],
   "source": [
    "# Concatenate the columns after 'power' back to the DataFrames\n",
    "train_data_final = pd.concat([train_data_selected, train_data_after_power], axis=1)\n",
    "test_data_final = pd.concat([test_data_selected, test_data_after_power], axis=1)\n",
    "\n",
    "print(f'train_data_final shape: {train_data_final.shape}, test_data_final shape: {test_data_final.shape}')"
   ]
  },
  {
   "cell_type": "code",
   "execution_count": 30,
   "metadata": {},
   "outputs": [],
   "source": [
    "file_name_common = 'farm_51_withTime.csv'\n",
    "\n",
    "# Export the new DataFrames to CSV files\n",
    "train_data_final.to_csv(f'/data3/lsf/Pein/Power-Prediction/data/train_{file_name_common}', index=False)\n",
    "test_data_final.to_csv(f'/data3/lsf/Pein/Power-Prediction/data/test_{file_name_common}', index=False)\n"
   ]
  },
  {
   "cell_type": "code",
   "execution_count": null,
   "metadata": {},
   "outputs": [],
   "source": []
  }
 ],
 "metadata": {
  "kernelspec": {
   "display_name": "Pein_310",
   "language": "python",
   "name": "python3"
  },
  "language_info": {
   "codemirror_mode": {
    "name": "ipython",
    "version": 3
   },
   "file_extension": ".py",
   "mimetype": "text/x-python",
   "name": "python",
   "nbconvert_exporter": "python",
   "pygments_lexer": "ipython3",
   "version": "3.10.14"
  }
 },
 "nbformat": 4,
 "nbformat_minor": 2
}
