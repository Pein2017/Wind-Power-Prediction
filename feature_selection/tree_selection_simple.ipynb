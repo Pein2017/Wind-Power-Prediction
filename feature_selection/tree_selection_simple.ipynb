{
 "cells": [
  {
   "cell_type": "code",
   "execution_count": null,
   "metadata": {},
   "outputs": [],
   "source": [
    "import pandas as pd\n",
    "import numpy as np\n",
    "from sklearn.feature_selection import mutual_info_regression, SelectKBest\n",
    "from sklearn.model_selection import cross_val_score\n",
    "from lightgbm import LGBMRegressor\n",
    "\n",
    "\n",
    "data_dir = \"/data3/lsf/Pein/Power-Prediction/data/\"\n",
    "train_data = pd.read_csv(data_dir + \"train_data_92.csv\")\n",
    "test_data = pd.read_csv(data_dir + \"test_data_92.csv\")"
   ]
  },
  {
   "cell_type": "code",
   "execution_count": null,
   "metadata": {},
   "outputs": [],
   "source": [
    "# Define features and target\n",
    "features = [\n",
    "    col for col in train_data.columns if col not in [\"time\", \"lead_hour\", \"power\"]\n",
    "]\n",
    "X = train_data[features]\n",
    "y = train_data[\"power\"]\n",
    "\n",
    "# Define a range of k values to search over\n",
    "k_values = range(30, len(features) + 1)\n",
    "k_values = [81]\n",
    "\n",
    "# Initialize variables to store the best score and corresponding k\n",
    "best_k = 0\n",
    "best_score = -np.inf\n",
    "\n",
    "# Use a LGBMRegressor for evaluating feature importance\n",
    "model = LGBMRegressor(\n",
    "    n_estimators=5,\n",
    "    random_state=42,\n",
    "    n_jobs=20,\n",
    ")\n",
    "\n",
    "# Iterate over k values to find the optimal number of features\n",
    "for k in k_values:\n",
    "    print(\"Evaluating k =\", k)\n",
    "    mi_selector = SelectKBest(mutual_info_regression, k=k)\n",
    "    X_k_best = mi_selector.fit_transform(X, y)\n",
    "\n",
    "    # Perform cross-validation and compute the average score\n",
    "    scores = cross_val_score(\n",
    "        model, X_k_best, y, cv=5, scoring=\"neg_mean_squared_error\", n_jobs=20\n",
    "    )\n",
    "    average_score = np.mean(scores)\n",
    "\n",
    "    # Update the best score and k if the current score is better\n",
    "    if average_score > best_score:\n",
    "        best_score = average_score\n",
    "        best_k = k\n",
    "\n",
    "# Select features using the best k\n",
    "mi_selector = SelectKBest(mutual_info_regression, k=best_k)\n",
    "mi_selector.fit(X, y)\n",
    "\n",
    "selected_mi_features = np.array(features)[mi_selector.get_support()]"
   ]
  },
  {
   "cell_type": "code",
   "execution_count": null,
   "metadata": {},
   "outputs": [],
   "source": [
    "print(selected_mi_features)\n",
    "print(best_k, best_score)"
   ]
  },
  {
   "cell_type": "code",
   "execution_count": null,
   "metadata": {},
   "outputs": [],
   "source": [
    "# Create new train and test data with selected features\n",
    "train_data_selected = train_data[\n",
    "    [\"time\", \"lead_hour\"] + selected_mi_features.tolist() + [\"power\"]\n",
    "]\n",
    "test_data_selected = test_data[\n",
    "    [\"time\", \"lead_hour\"] + selected_mi_features.tolist() + [\"power\"]\n",
    "]\n",
    "\n",
    "# Ensure 'power' is non-zero, setting negative values to 0\n",
    "train_data_selected[\"power\"] = train_data_selected[\"power\"].apply(lambda x: max(x, 0))\n",
    "test_data_selected[\"power\"] = test_data_selected[\"power\"].apply(lambda x: max(x, 0))\n",
    "\n",
    "\n",
    "print(train_data_selected.shape)\n",
    "print(test_data_selected.shape)"
   ]
  },
  {
   "cell_type": "code",
   "execution_count": null,
   "metadata": {},
   "outputs": [],
   "source": [
    "# Save the resulting DataFrames\n",
    "train_data_selected.to_csv(data_dir + \"train_data_84.csv\", index=False)\n",
    "test_data_selected.to_csv(data_dir + \"test_data_84.csv\", index=False)"
   ]
  },
  {
   "cell_type": "markdown",
   "metadata": {},
   "source": [
    "### Feature Importance Selection"
   ]
  },
  {
   "cell_type": "code",
   "execution_count": null,
   "metadata": {},
   "outputs": [],
   "source": []
  }
 ],
 "metadata": {
  "kernelspec": {
   "display_name": "Pein_310",
   "language": "python",
   "name": "python3"
  },
  "language_info": {
   "codemirror_mode": {
    "name": "ipython",
    "version": 3
   },
   "file_extension": ".py",
   "mimetype": "text/x-python",
   "name": "python",
   "nbconvert_exporter": "python",
   "pygments_lexer": "ipython3",
   "version": "3.10.14"
  }
 },
 "nbformat": 4,
 "nbformat_minor": 2
}
